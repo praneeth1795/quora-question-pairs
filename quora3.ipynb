{
 "cells": [
  {
   "cell_type": "code",
   "execution_count": 1,
   "metadata": {},
   "outputs": [],
   "source": [
    "import warnings\n",
    "warnings.filterwarnings(\"ignore\")\n",
    "import numpy as np\n",
    "import pandas as pd\n",
    "import matplotlib.pyplot as plt\n",
    "import seaborn as sns\n",
    "from sklearn.model_selection import train_test_split\n",
    "from sklearn.metrics import log_loss\n",
    "from sklearn.calibration import CalibratedClassifierCV\n",
    "from sklearn.linear_model import SGDClassifier\n",
    "import xgboost as xgb"
   ]
  },
  {
   "cell_type": "code",
   "execution_count": 2,
   "metadata": {},
   "outputs": [
    {
     "data": {
      "text/plain": [
       "(404287, 810)"
      ]
     },
     "execution_count": 2,
     "metadata": {},
     "output_type": "execute_result"
    }
   ],
   "source": [
    "df = pd.read_csv(\"preprocessed2.csv\")\n",
    "df.shape"
   ]
  },
  {
   "cell_type": "code",
   "execution_count": 3,
   "metadata": {},
   "outputs": [],
   "source": [
    "y = df['is_duplicate'].values\n",
    "\n",
    "df = df.drop(['id','is_duplicate'], axis=1)\n",
    "\n",
    "x = df.values"
   ]
  },
  {
   "cell_type": "code",
   "execution_count": 4,
   "metadata": {},
   "outputs": [
    {
     "name": "stdout",
     "output_type": "stream",
     "text": [
      "(404287, 808)\n",
      "(404287,)\n"
     ]
    }
   ],
   "source": [
    "print(x.shape)\n",
    "\n",
    "print(y.shape)"
   ]
  },
  {
   "cell_type": "markdown",
   "metadata": {},
   "source": [
    "## Train test split"
   ]
  },
  {
   "cell_type": "code",
   "execution_count": 5,
   "metadata": {},
   "outputs": [],
   "source": [
    "xtrain, xtest, ytrain, ytest = train_test_split(x, y, test_size = 0.2, random_state = 0)\n",
    "\n",
    "xtrain, xcv, ytrain, ycv = train_test_split(xtrain, ytrain, test_size = 0.2, random_state = 0)"
   ]
  },
  {
   "cell_type": "code",
   "execution_count": 6,
   "metadata": {},
   "outputs": [
    {
     "name": "stdout",
     "output_type": "stream",
     "text": [
      "shape of training features: (258743, 808)\n",
      "shape of training labels: (258743,)\n",
      "shape of cross-validation features: (64686, 808)\n",
      "shape of cross-validation labels: (64686,)\n",
      "shape of test features: (80858, 808)\n",
      "shape of test labels: (80858,)\n"
     ]
    }
   ],
   "source": [
    "print(\"shape of training features:\", xtrain.shape)\n",
    "print(\"shape of training labels:\", ytrain.shape)\n",
    "print(\"shape of cross-validation features:\", xcv.shape)\n",
    "print(\"shape of cross-validation labels:\", ycv.shape)\n",
    "print(\"shape of test features:\", xtest.shape)\n",
    "print(\"shape of test labels:\", ytest.shape)"
   ]
  },
  {
   "cell_type": "markdown",
   "metadata": {},
   "source": [
    "## random model"
   ]
  },
  {
   "cell_type": "code",
   "execution_count": 7,
   "metadata": {},
   "outputs": [],
   "source": [
    "y_pred = np.zeros([80858,2])\n",
    "for i in range(80858):\n",
    "    x = np.random.rand(1,2)\n",
    "    x = x/x.sum()\n",
    "    y_pred[i,:] = x"
   ]
  },
  {
   "cell_type": "code",
   "execution_count": 8,
   "metadata": {},
   "outputs": [
    {
     "name": "stdout",
     "output_type": "stream",
     "text": [
      "log loss of test data is: 0.8906748995311722\n"
     ]
    }
   ],
   "source": [
    "print(\"log loss of test data is:\",log_loss(ytest,y_pred))"
   ]
  },
  {
   "cell_type": "code",
   "execution_count": 9,
   "metadata": {},
   "outputs": [],
   "source": [
    "y_pred_cv = np.zeros([64686,2])\n",
    "for i in range(64686):\n",
    "    x = np.random.rand(1,2)\n",
    "    x = x/x.sum()\n",
    "    y_pred_cv[i,:] = x"
   ]
  },
  {
   "cell_type": "code",
   "execution_count": 10,
   "metadata": {},
   "outputs": [
    {
     "name": "stdout",
     "output_type": "stream",
     "text": [
      "log loss of cross_validation data is: 0.8829634963221697\n"
     ]
    }
   ],
   "source": [
    "print(\"log loss of cross_validation data is:\",log_loss(ycv,y_pred_cv))"
   ]
  },
  {
   "cell_type": "markdown",
   "metadata": {},
   "source": [
    "## Logistic Regression"
   ]
  },
  {
   "cell_type": "code",
   "execution_count": 11,
   "metadata": {},
   "outputs": [
    {
     "name": "stdout",
     "output_type": "stream",
     "text": [
      "For values of alpha =  1e-05 The log loss is: 0.6577730802676728\n",
      "For values of alpha =  0.0001 The log loss is: 0.6577730802676728\n",
      "For values of alpha =  0.001 The log loss is: 0.6577730802676728\n",
      "For values of alpha =  0.01 The log loss is: 0.6577730802676728\n",
      "For values of alpha =  0.1 The log loss is: 0.656342052086407\n",
      "For values of alpha =  1 The log loss is: 0.6537536594247011\n",
      "For values of alpha =  10 The log loss is: 0.6536525827033991\n",
      "For values of alpha =  100 The log loss is: 0.6494018573169754\n",
      "For values of alpha =  1000 The log loss is: 0.648741290983299\n",
      "For values of alpha =  10000 The log loss is: 0.6496127181385953\n"
     ]
    }
   ],
   "source": [
    "alpha = [10 ** x for x in range(-5, 5)]\n",
    "\n",
    "errors = []\n",
    "\n",
    "for i in alpha:\n",
    "    lr = SGDClassifier(alpha=i, penalty='l2', loss='log', random_state=0)\n",
    "    lr.fit(xtrain, ytrain)\n",
    "    \n",
    "    cc = CalibratedClassifierCV(lr, method=\"sigmoid\")\n",
    "    cc.fit(xtrain, ytrain)\n",
    "    \n",
    "    y_pred_cv = cc.predict_proba(xcv)\n",
    "    \n",
    "    errors.append(log_loss(ycv, y_pred_cv, labels=lr.classes_, eps=1e-15))\n",
    "    \n",
    "    print('For values of alpha = ', i, \"The log loss is:\",log_loss(ycv, y_pred_cv, labels=lr.classes_, eps=1e-15))"
   ]
  },
  {
   "cell_type": "code",
   "execution_count": 12,
   "metadata": {},
   "outputs": [
    {
     "name": "stdout",
     "output_type": "stream",
     "text": [
      "log loss on cross validation data: 0.648741290983299\n",
      "log loss on test data: 0.6485601494195274\n"
     ]
    }
   ],
   "source": [
    "lr = SGDClassifier(alpha=1000, penalty='l2', loss='log', random_state=0)\n",
    "lr.fit(xtrain, ytrain)\n",
    "\n",
    "cc = CalibratedClassifierCV(lr, method=\"sigmoid\")\n",
    "cc.fit(xtrain, ytrain)\n",
    "\n",
    "y_pred_cv = cc.predict_proba(xcv)\n",
    "\n",
    "y_pred = cc.predict_proba(xtest)\n",
    "\n",
    "print(\"log loss on cross validation data:\",log_loss(ycv, y_pred_cv, labels=lr.classes_, eps=1e-15))\n",
    "\n",
    "print(\"log loss on test data:\",log_loss(ytest, y_pred, labels=lr.classes_, eps=1e-15))"
   ]
  },
  {
   "cell_type": "markdown",
   "metadata": {},
   "source": [
    "## Linear SVM"
   ]
  },
  {
   "cell_type": "code",
   "execution_count": 13,
   "metadata": {},
   "outputs": [
    {
     "name": "stdout",
     "output_type": "stream",
     "text": [
      "For values of alpha =  1e-05 The log loss is: 0.6577730802676728\n",
      "For values of alpha =  0.0001 The log loss is: 0.6577730802676728\n",
      "For values of alpha =  0.001 The log loss is: 0.6577730802676728\n",
      "For values of alpha =  0.01 The log loss is: 0.5211240195353466\n",
      "For values of alpha =  0.1 The log loss is: 0.5381584493759366\n",
      "For values of alpha =  1 The log loss is: 0.5852859436496413\n",
      "For values of alpha =  10 The log loss is: 0.6542062255030273\n",
      "For values of alpha =  100 The log loss is: 0.6577730604935831\n",
      "For values of alpha =  1000 The log loss is: 0.65442382242152\n",
      "For values of alpha =  10000 The log loss is: 0.6544238224231584\n"
     ]
    }
   ],
   "source": [
    "alpha = [10 ** x for x in range(-5, 5)]\n",
    "\n",
    "errors = []\n",
    "\n",
    "for i in alpha:\n",
    "    lrsvm = SGDClassifier(alpha=i, penalty='l1', loss='hinge', random_state=42)\n",
    "    lrsvm.fit(xtrain, ytrain)\n",
    "    \n",
    "    cc = CalibratedClassifierCV(lrsvm, method=\"sigmoid\")\n",
    "    cc.fit(xtrain, ytrain)\n",
    "    \n",
    "    y_pred_cv = cc.predict_proba(xcv)\n",
    "    \n",
    "    errors.append(log_loss(ycv, y_pred_cv, labels = lrsvm.classes_, eps=1e-15))\n",
    "    \n",
    "    print('For values of alpha = ', i, \"The log loss is:\",log_loss(ycv, y_pred_cv, labels = lrsvm.classes_, eps=1e-15))"
   ]
  },
  {
   "cell_type": "code",
   "execution_count": 14,
   "metadata": {},
   "outputs": [
    {
     "name": "stdout",
     "output_type": "stream",
     "text": [
      "log loss on cross validation data: 0.5211240195353466\n",
      "log loss on test data: 0.5176347880715397\n"
     ]
    }
   ],
   "source": [
    "lrsvm = SGDClassifier(alpha=0.01, penalty='l1', loss='hinge', random_state=42)\n",
    "lrsvm.fit(xtrain, ytrain)\n",
    "\n",
    "cc = CalibratedClassifierCV(lrsvm, method=\"sigmoid\")\n",
    "cc.fit(xtrain, ytrain)\n",
    "\n",
    "y_pred_cv = cc.predict_proba(xcv)\n",
    "\n",
    "y_pred = cc.predict_proba(xtest)\n",
    "\n",
    "print(\"log loss on cross validation data:\",log_loss(ycv, y_pred_cv, labels = lrsvm.classes_, eps=1e-15))\n",
    "\n",
    "print(\"log loss on test data:\",log_loss(ytest, y_pred, labels = lrsvm.classes_, eps=1e-15))"
   ]
  },
  {
   "cell_type": "markdown",
   "metadata": {},
   "source": [
    "## XG Boost"
   ]
  },
  {
   "cell_type": "code",
   "execution_count": 15,
   "metadata": {},
   "outputs": [
    {
     "name": "stdout",
     "output_type": "stream",
     "text": [
      "[15:59:33] d:\\build\\xgboost\\xgboost-0.81.git\\src\\tree\\updater_prune.cc:74: tree pruning end, 1 roots, 30 extra nodes, 0 pruned nodes, max_depth=4\n",
      "[0]\ttrain-logloss:0.685336\tvalid-logloss:0.6853\ttest-logloss:0.685335\n",
      "Multiple eval metrics have been passed: 'test-logloss' will be used for early stopping.\n",
      "\n",
      "Will train until test-logloss hasn't improved in 20 rounds.\n",
      "[15:59:43] d:\\build\\xgboost\\xgboost-0.81.git\\src\\tree\\updater_prune.cc:74: tree pruning end, 1 roots, 30 extra nodes, 0 pruned nodes, max_depth=4\n",
      "[15:59:52] d:\\build\\xgboost\\xgboost-0.81.git\\src\\tree\\updater_prune.cc:74: tree pruning end, 1 roots, 30 extra nodes, 0 pruned nodes, max_depth=4\n",
      "[16:00:02] d:\\build\\xgboost\\xgboost-0.81.git\\src\\tree\\updater_prune.cc:74: tree pruning end, 1 roots, 30 extra nodes, 0 pruned nodes, max_depth=4\n",
      "[16:00:12] d:\\build\\xgboost\\xgboost-0.81.git\\src\\tree\\updater_prune.cc:74: tree pruning end, 1 roots, 30 extra nodes, 0 pruned nodes, max_depth=4\n",
      "[16:00:22] d:\\build\\xgboost\\xgboost-0.81.git\\src\\tree\\updater_prune.cc:74: tree pruning end, 1 roots, 30 extra nodes, 0 pruned nodes, max_depth=4\n",
      "[16:00:32] d:\\build\\xgboost\\xgboost-0.81.git\\src\\tree\\updater_prune.cc:74: tree pruning end, 1 roots, 30 extra nodes, 0 pruned nodes, max_depth=4\n",
      "[16:00:43] d:\\build\\xgboost\\xgboost-0.81.git\\src\\tree\\updater_prune.cc:74: tree pruning end, 1 roots, 30 extra nodes, 0 pruned nodes, max_depth=4\n",
      "[16:00:53] d:\\build\\xgboost\\xgboost-0.81.git\\src\\tree\\updater_prune.cc:74: tree pruning end, 1 roots, 30 extra nodes, 0 pruned nodes, max_depth=4\n",
      "[16:01:03] d:\\build\\xgboost\\xgboost-0.81.git\\src\\tree\\updater_prune.cc:74: tree pruning end, 1 roots, 30 extra nodes, 0 pruned nodes, max_depth=4\n",
      "[16:01:13] d:\\build\\xgboost\\xgboost-0.81.git\\src\\tree\\updater_prune.cc:74: tree pruning end, 1 roots, 30 extra nodes, 0 pruned nodes, max_depth=4\n",
      "[10]\ttrain-logloss:0.620879\tvalid-logloss:0.620574\ttest-logloss:0.620748\n",
      "[16:01:23] d:\\build\\xgboost\\xgboost-0.81.git\\src\\tree\\updater_prune.cc:74: tree pruning end, 1 roots, 30 extra nodes, 0 pruned nodes, max_depth=4\n",
      "[16:01:34] d:\\build\\xgboost\\xgboost-0.81.git\\src\\tree\\updater_prune.cc:74: tree pruning end, 1 roots, 30 extra nodes, 0 pruned nodes, max_depth=4\n",
      "[16:01:44] d:\\build\\xgboost\\xgboost-0.81.git\\src\\tree\\updater_prune.cc:74: tree pruning end, 1 roots, 30 extra nodes, 0 pruned nodes, max_depth=4\n",
      "[16:01:54] d:\\build\\xgboost\\xgboost-0.81.git\\src\\tree\\updater_prune.cc:74: tree pruning end, 1 roots, 30 extra nodes, 0 pruned nodes, max_depth=4\n",
      "[16:02:04] d:\\build\\xgboost\\xgboost-0.81.git\\src\\tree\\updater_prune.cc:74: tree pruning end, 1 roots, 30 extra nodes, 0 pruned nodes, max_depth=4\n",
      "[16:02:14] d:\\build\\xgboost\\xgboost-0.81.git\\src\\tree\\updater_prune.cc:74: tree pruning end, 1 roots, 30 extra nodes, 0 pruned nodes, max_depth=4\n",
      "[16:02:27] d:\\build\\xgboost\\xgboost-0.81.git\\src\\tree\\updater_prune.cc:74: tree pruning end, 1 roots, 30 extra nodes, 0 pruned nodes, max_depth=4\n",
      "[16:02:40] d:\\build\\xgboost\\xgboost-0.81.git\\src\\tree\\updater_prune.cc:74: tree pruning end, 1 roots, 30 extra nodes, 0 pruned nodes, max_depth=4\n",
      "[16:02:51] d:\\build\\xgboost\\xgboost-0.81.git\\src\\tree\\updater_prune.cc:74: tree pruning end, 1 roots, 30 extra nodes, 0 pruned nodes, max_depth=4\n",
      "[16:03:00] d:\\build\\xgboost\\xgboost-0.81.git\\src\\tree\\updater_prune.cc:74: tree pruning end, 1 roots, 30 extra nodes, 0 pruned nodes, max_depth=4\n",
      "[20]\ttrain-logloss:0.573861\tvalid-logloss:0.573358\ttest-logloss:0.573579\n",
      "[16:03:11] d:\\build\\xgboost\\xgboost-0.81.git\\src\\tree\\updater_prune.cc:74: tree pruning end, 1 roots, 30 extra nodes, 0 pruned nodes, max_depth=4\n",
      "[16:03:21] d:\\build\\xgboost\\xgboost-0.81.git\\src\\tree\\updater_prune.cc:74: tree pruning end, 1 roots, 30 extra nodes, 0 pruned nodes, max_depth=4\n",
      "[16:03:31] d:\\build\\xgboost\\xgboost-0.81.git\\src\\tree\\updater_prune.cc:74: tree pruning end, 1 roots, 30 extra nodes, 0 pruned nodes, max_depth=4\n",
      "[16:03:42] d:\\build\\xgboost\\xgboost-0.81.git\\src\\tree\\updater_prune.cc:74: tree pruning end, 1 roots, 30 extra nodes, 0 pruned nodes, max_depth=4\n",
      "[16:03:52] d:\\build\\xgboost\\xgboost-0.81.git\\src\\tree\\updater_prune.cc:74: tree pruning end, 1 roots, 30 extra nodes, 0 pruned nodes, max_depth=4\n",
      "[16:04:03] d:\\build\\xgboost\\xgboost-0.81.git\\src\\tree\\updater_prune.cc:74: tree pruning end, 1 roots, 30 extra nodes, 0 pruned nodes, max_depth=4\n",
      "[16:04:17] d:\\build\\xgboost\\xgboost-0.81.git\\src\\tree\\updater_prune.cc:74: tree pruning end, 1 roots, 30 extra nodes, 0 pruned nodes, max_depth=4\n",
      "[16:04:28] d:\\build\\xgboost\\xgboost-0.81.git\\src\\tree\\updater_prune.cc:74: tree pruning end, 1 roots, 30 extra nodes, 0 pruned nodes, max_depth=4\n",
      "[16:04:38] d:\\build\\xgboost\\xgboost-0.81.git\\src\\tree\\updater_prune.cc:74: tree pruning end, 1 roots, 30 extra nodes, 0 pruned nodes, max_depth=4\n",
      "[16:04:49] d:\\build\\xgboost\\xgboost-0.81.git\\src\\tree\\updater_prune.cc:74: tree pruning end, 1 roots, 30 extra nodes, 0 pruned nodes, max_depth=4\n",
      "[30]\ttrain-logloss:0.539006\tvalid-logloss:0.538464\ttest-logloss:0.538601\n",
      "[16:05:01] d:\\build\\xgboost\\xgboost-0.81.git\\src\\tree\\updater_prune.cc:74: tree pruning end, 1 roots, 30 extra nodes, 0 pruned nodes, max_depth=4\n",
      "[16:05:14] d:\\build\\xgboost\\xgboost-0.81.git\\src\\tree\\updater_prune.cc:74: tree pruning end, 1 roots, 30 extra nodes, 0 pruned nodes, max_depth=4\n",
      "[16:05:25] d:\\build\\xgboost\\xgboost-0.81.git\\src\\tree\\updater_prune.cc:74: tree pruning end, 1 roots, 30 extra nodes, 0 pruned nodes, max_depth=4\n",
      "[16:05:35] d:\\build\\xgboost\\xgboost-0.81.git\\src\\tree\\updater_prune.cc:74: tree pruning end, 1 roots, 30 extra nodes, 0 pruned nodes, max_depth=4\n",
      "[16:05:45] d:\\build\\xgboost\\xgboost-0.81.git\\src\\tree\\updater_prune.cc:74: tree pruning end, 1 roots, 30 extra nodes, 0 pruned nodes, max_depth=4\n",
      "[16:05:55] d:\\build\\xgboost\\xgboost-0.81.git\\src\\tree\\updater_prune.cc:74: tree pruning end, 1 roots, 30 extra nodes, 0 pruned nodes, max_depth=4\n",
      "[16:06:05] d:\\build\\xgboost\\xgboost-0.81.git\\src\\tree\\updater_prune.cc:74: tree pruning end, 1 roots, 30 extra nodes, 0 pruned nodes, max_depth=4\n",
      "[16:06:28] d:\\build\\xgboost\\xgboost-0.81.git\\src\\tree\\updater_prune.cc:74: tree pruning end, 1 roots, 30 extra nodes, 0 pruned nodes, max_depth=4\n",
      "[16:06:41] d:\\build\\xgboost\\xgboost-0.81.git\\src\\tree\\updater_prune.cc:74: tree pruning end, 1 roots, 30 extra nodes, 0 pruned nodes, max_depth=4\n",
      "[16:06:53] d:\\build\\xgboost\\xgboost-0.81.git\\src\\tree\\updater_prune.cc:74: tree pruning end, 1 roots, 30 extra nodes, 0 pruned nodes, max_depth=4\n",
      "[40]\ttrain-logloss:0.511161\tvalid-logloss:0.510638\ttest-logloss:0.510704\n",
      "[16:07:03] d:\\build\\xgboost\\xgboost-0.81.git\\src\\tree\\updater_prune.cc:74: tree pruning end, 1 roots, 30 extra nodes, 0 pruned nodes, max_depth=4\n",
      "[16:07:13] d:\\build\\xgboost\\xgboost-0.81.git\\src\\tree\\updater_prune.cc:74: tree pruning end, 1 roots, 30 extra nodes, 0 pruned nodes, max_depth=4\n",
      "[16:07:23] d:\\build\\xgboost\\xgboost-0.81.git\\src\\tree\\updater_prune.cc:74: tree pruning end, 1 roots, 30 extra nodes, 0 pruned nodes, max_depth=4\n",
      "[16:07:33] d:\\build\\xgboost\\xgboost-0.81.git\\src\\tree\\updater_prune.cc:74: tree pruning end, 1 roots, 30 extra nodes, 0 pruned nodes, max_depth=4\n",
      "[16:07:43] d:\\build\\xgboost\\xgboost-0.81.git\\src\\tree\\updater_prune.cc:74: tree pruning end, 1 roots, 30 extra nodes, 0 pruned nodes, max_depth=4\n",
      "[16:07:53] d:\\build\\xgboost\\xgboost-0.81.git\\src\\tree\\updater_prune.cc:74: tree pruning end, 1 roots, 30 extra nodes, 0 pruned nodes, max_depth=4\n",
      "[16:08:03] d:\\build\\xgboost\\xgboost-0.81.git\\src\\tree\\updater_prune.cc:74: tree pruning end, 1 roots, 30 extra nodes, 0 pruned nodes, max_depth=4\n",
      "[16:08:14] d:\\build\\xgboost\\xgboost-0.81.git\\src\\tree\\updater_prune.cc:74: tree pruning end, 1 roots, 30 extra nodes, 0 pruned nodes, max_depth=4\n",
      "[16:08:24] d:\\build\\xgboost\\xgboost-0.81.git\\src\\tree\\updater_prune.cc:74: tree pruning end, 1 roots, 30 extra nodes, 0 pruned nodes, max_depth=4\n",
      "[16:08:34] d:\\build\\xgboost\\xgboost-0.81.git\\src\\tree\\updater_prune.cc:74: tree pruning end, 1 roots, 30 extra nodes, 0 pruned nodes, max_depth=4\n",
      "[50]\ttrain-logloss:0.489425\tvalid-logloss:0.488933\ttest-logloss:0.488932\n",
      "[16:08:44] d:\\build\\xgboost\\xgboost-0.81.git\\src\\tree\\updater_prune.cc:74: tree pruning end, 1 roots, 30 extra nodes, 0 pruned nodes, max_depth=4\n",
      "[16:08:54] d:\\build\\xgboost\\xgboost-0.81.git\\src\\tree\\updater_prune.cc:74: tree pruning end, 1 roots, 30 extra nodes, 0 pruned nodes, max_depth=4\n"
     ]
    },
    {
     "name": "stdout",
     "output_type": "stream",
     "text": [
      "[16:09:04] d:\\build\\xgboost\\xgboost-0.81.git\\src\\tree\\updater_prune.cc:74: tree pruning end, 1 roots, 30 extra nodes, 0 pruned nodes, max_depth=4\n",
      "[16:09:14] d:\\build\\xgboost\\xgboost-0.81.git\\src\\tree\\updater_prune.cc:74: tree pruning end, 1 roots, 30 extra nodes, 0 pruned nodes, max_depth=4\n",
      "[16:09:24] d:\\build\\xgboost\\xgboost-0.81.git\\src\\tree\\updater_prune.cc:74: tree pruning end, 1 roots, 30 extra nodes, 0 pruned nodes, max_depth=4\n",
      "[16:09:34] d:\\build\\xgboost\\xgboost-0.81.git\\src\\tree\\updater_prune.cc:74: tree pruning end, 1 roots, 30 extra nodes, 0 pruned nodes, max_depth=4\n",
      "[16:09:44] d:\\build\\xgboost\\xgboost-0.81.git\\src\\tree\\updater_prune.cc:74: tree pruning end, 1 roots, 30 extra nodes, 0 pruned nodes, max_depth=4\n",
      "[16:09:55] d:\\build\\xgboost\\xgboost-0.81.git\\src\\tree\\updater_prune.cc:74: tree pruning end, 1 roots, 30 extra nodes, 0 pruned nodes, max_depth=4\n",
      "[16:10:05] d:\\build\\xgboost\\xgboost-0.81.git\\src\\tree\\updater_prune.cc:74: tree pruning end, 1 roots, 30 extra nodes, 0 pruned nodes, max_depth=4\n",
      "[16:10:15] d:\\build\\xgboost\\xgboost-0.81.git\\src\\tree\\updater_prune.cc:74: tree pruning end, 1 roots, 30 extra nodes, 0 pruned nodes, max_depth=4\n",
      "[60]\ttrain-logloss:0.472025\tvalid-logloss:0.471573\ttest-logloss:0.471507\n",
      "[16:10:25] d:\\build\\xgboost\\xgboost-0.81.git\\src\\tree\\updater_prune.cc:74: tree pruning end, 1 roots, 30 extra nodes, 0 pruned nodes, max_depth=4\n",
      "[16:10:35] d:\\build\\xgboost\\xgboost-0.81.git\\src\\tree\\updater_prune.cc:74: tree pruning end, 1 roots, 30 extra nodes, 0 pruned nodes, max_depth=4\n",
      "[16:10:45] d:\\build\\xgboost\\xgboost-0.81.git\\src\\tree\\updater_prune.cc:74: tree pruning end, 1 roots, 30 extra nodes, 0 pruned nodes, max_depth=4\n",
      "[16:10:55] d:\\build\\xgboost\\xgboost-0.81.git\\src\\tree\\updater_prune.cc:74: tree pruning end, 1 roots, 30 extra nodes, 0 pruned nodes, max_depth=4\n",
      "[16:11:06] d:\\build\\xgboost\\xgboost-0.81.git\\src\\tree\\updater_prune.cc:74: tree pruning end, 1 roots, 30 extra nodes, 0 pruned nodes, max_depth=4\n",
      "[16:11:16] d:\\build\\xgboost\\xgboost-0.81.git\\src\\tree\\updater_prune.cc:74: tree pruning end, 1 roots, 30 extra nodes, 0 pruned nodes, max_depth=4\n",
      "[16:11:25] d:\\build\\xgboost\\xgboost-0.81.git\\src\\tree\\updater_prune.cc:74: tree pruning end, 1 roots, 30 extra nodes, 0 pruned nodes, max_depth=4\n",
      "[16:11:36] d:\\build\\xgboost\\xgboost-0.81.git\\src\\tree\\updater_prune.cc:74: tree pruning end, 1 roots, 30 extra nodes, 0 pruned nodes, max_depth=4\n",
      "[16:11:46] d:\\build\\xgboost\\xgboost-0.81.git\\src\\tree\\updater_prune.cc:74: tree pruning end, 1 roots, 30 extra nodes, 0 pruned nodes, max_depth=4\n",
      "[16:11:56] d:\\build\\xgboost\\xgboost-0.81.git\\src\\tree\\updater_prune.cc:74: tree pruning end, 1 roots, 30 extra nodes, 0 pruned nodes, max_depth=4\n",
      "[70]\ttrain-logloss:0.458346\tvalid-logloss:0.457925\ttest-logloss:0.457805\n",
      "[16:12:06] d:\\build\\xgboost\\xgboost-0.81.git\\src\\tree\\updater_prune.cc:74: tree pruning end, 1 roots, 30 extra nodes, 0 pruned nodes, max_depth=4\n",
      "[16:12:16] d:\\build\\xgboost\\xgboost-0.81.git\\src\\tree\\updater_prune.cc:74: tree pruning end, 1 roots, 30 extra nodes, 0 pruned nodes, max_depth=4\n",
      "[16:12:26] d:\\build\\xgboost\\xgboost-0.81.git\\src\\tree\\updater_prune.cc:74: tree pruning end, 1 roots, 30 extra nodes, 0 pruned nodes, max_depth=4\n",
      "[16:12:36] d:\\build\\xgboost\\xgboost-0.81.git\\src\\tree\\updater_prune.cc:74: tree pruning end, 1 roots, 30 extra nodes, 0 pruned nodes, max_depth=4\n",
      "[16:12:46] d:\\build\\xgboost\\xgboost-0.81.git\\src\\tree\\updater_prune.cc:74: tree pruning end, 1 roots, 30 extra nodes, 0 pruned nodes, max_depth=4\n",
      "[16:12:56] d:\\build\\xgboost\\xgboost-0.81.git\\src\\tree\\updater_prune.cc:74: tree pruning end, 1 roots, 30 extra nodes, 0 pruned nodes, max_depth=4\n",
      "[16:13:06] d:\\build\\xgboost\\xgboost-0.81.git\\src\\tree\\updater_prune.cc:74: tree pruning end, 1 roots, 30 extra nodes, 0 pruned nodes, max_depth=4\n",
      "[16:13:16] d:\\build\\xgboost\\xgboost-0.81.git\\src\\tree\\updater_prune.cc:74: tree pruning end, 1 roots, 30 extra nodes, 0 pruned nodes, max_depth=4\n",
      "[16:13:26] d:\\build\\xgboost\\xgboost-0.81.git\\src\\tree\\updater_prune.cc:74: tree pruning end, 1 roots, 30 extra nodes, 0 pruned nodes, max_depth=4\n",
      "[16:13:37] d:\\build\\xgboost\\xgboost-0.81.git\\src\\tree\\updater_prune.cc:74: tree pruning end, 1 roots, 30 extra nodes, 0 pruned nodes, max_depth=4\n",
      "[80]\ttrain-logloss:0.447311\tvalid-logloss:0.446941\ttest-logloss:0.446721\n",
      "[16:13:47] d:\\build\\xgboost\\xgboost-0.81.git\\src\\tree\\updater_prune.cc:74: tree pruning end, 1 roots, 30 extra nodes, 0 pruned nodes, max_depth=4\n",
      "[16:13:59] d:\\build\\xgboost\\xgboost-0.81.git\\src\\tree\\updater_prune.cc:74: tree pruning end, 1 roots, 30 extra nodes, 0 pruned nodes, max_depth=4\n",
      "[16:14:11] d:\\build\\xgboost\\xgboost-0.81.git\\src\\tree\\updater_prune.cc:74: tree pruning end, 1 roots, 30 extra nodes, 0 pruned nodes, max_depth=4\n",
      "[16:14:23] d:\\build\\xgboost\\xgboost-0.81.git\\src\\tree\\updater_prune.cc:74: tree pruning end, 1 roots, 30 extra nodes, 0 pruned nodes, max_depth=4\n",
      "[16:14:36] d:\\build\\xgboost\\xgboost-0.81.git\\src\\tree\\updater_prune.cc:74: tree pruning end, 1 roots, 30 extra nodes, 0 pruned nodes, max_depth=4\n",
      "[16:14:49] d:\\build\\xgboost\\xgboost-0.81.git\\src\\tree\\updater_prune.cc:74: tree pruning end, 1 roots, 30 extra nodes, 0 pruned nodes, max_depth=4\n",
      "[16:15:03] d:\\build\\xgboost\\xgboost-0.81.git\\src\\tree\\updater_prune.cc:74: tree pruning end, 1 roots, 30 extra nodes, 0 pruned nodes, max_depth=4\n",
      "[16:15:14] d:\\build\\xgboost\\xgboost-0.81.git\\src\\tree\\updater_prune.cc:74: tree pruning end, 1 roots, 30 extra nodes, 0 pruned nodes, max_depth=4\n",
      "[16:15:23] d:\\build\\xgboost\\xgboost-0.81.git\\src\\tree\\updater_prune.cc:74: tree pruning end, 1 roots, 30 extra nodes, 0 pruned nodes, max_depth=4\n",
      "[16:15:33] d:\\build\\xgboost\\xgboost-0.81.git\\src\\tree\\updater_prune.cc:74: tree pruning end, 1 roots, 30 extra nodes, 0 pruned nodes, max_depth=4\n",
      "[90]\ttrain-logloss:0.438412\tvalid-logloss:0.438064\ttest-logloss:0.437803\n",
      "[16:15:45] d:\\build\\xgboost\\xgboost-0.81.git\\src\\tree\\updater_prune.cc:74: tree pruning end, 1 roots, 30 extra nodes, 0 pruned nodes, max_depth=4\n",
      "[16:15:56] d:\\build\\xgboost\\xgboost-0.81.git\\src\\tree\\updater_prune.cc:74: tree pruning end, 1 roots, 30 extra nodes, 0 pruned nodes, max_depth=4\n",
      "[16:16:08] d:\\build\\xgboost\\xgboost-0.81.git\\src\\tree\\updater_prune.cc:74: tree pruning end, 1 roots, 30 extra nodes, 0 pruned nodes, max_depth=4\n",
      "[16:16:21] d:\\build\\xgboost\\xgboost-0.81.git\\src\\tree\\updater_prune.cc:74: tree pruning end, 1 roots, 30 extra nodes, 0 pruned nodes, max_depth=4\n",
      "[16:16:32] d:\\build\\xgboost\\xgboost-0.81.git\\src\\tree\\updater_prune.cc:74: tree pruning end, 1 roots, 30 extra nodes, 0 pruned nodes, max_depth=4\n",
      "[16:16:43] d:\\build\\xgboost\\xgboost-0.81.git\\src\\tree\\updater_prune.cc:74: tree pruning end, 1 roots, 30 extra nodes, 0 pruned nodes, max_depth=4\n",
      "[16:16:56] d:\\build\\xgboost\\xgboost-0.81.git\\src\\tree\\updater_prune.cc:74: tree pruning end, 1 roots, 30 extra nodes, 0 pruned nodes, max_depth=4\n",
      "[16:17:07] d:\\build\\xgboost\\xgboost-0.81.git\\src\\tree\\updater_prune.cc:74: tree pruning end, 1 roots, 30 extra nodes, 0 pruned nodes, max_depth=4\n",
      "[16:17:18] d:\\build\\xgboost\\xgboost-0.81.git\\src\\tree\\updater_prune.cc:74: tree pruning end, 1 roots, 30 extra nodes, 0 pruned nodes, max_depth=4\n",
      "[16:17:28] d:\\build\\xgboost\\xgboost-0.81.git\\src\\tree\\updater_prune.cc:74: tree pruning end, 1 roots, 30 extra nodes, 0 pruned nodes, max_depth=4\n",
      "[100]\ttrain-logloss:0.431034\tvalid-logloss:0.430734\ttest-logloss:0.430424\n",
      "[16:17:38] d:\\build\\xgboost\\xgboost-0.81.git\\src\\tree\\updater_prune.cc:74: tree pruning end, 1 roots, 30 extra nodes, 0 pruned nodes, max_depth=4\n",
      "[16:17:49] d:\\build\\xgboost\\xgboost-0.81.git\\src\\tree\\updater_prune.cc:74: tree pruning end, 1 roots, 30 extra nodes, 0 pruned nodes, max_depth=4\n",
      "[16:18:00] d:\\build\\xgboost\\xgboost-0.81.git\\src\\tree\\updater_prune.cc:74: tree pruning end, 1 roots, 30 extra nodes, 0 pruned nodes, max_depth=4\n",
      "[16:18:10] d:\\build\\xgboost\\xgboost-0.81.git\\src\\tree\\updater_prune.cc:74: tree pruning end, 1 roots, 30 extra nodes, 0 pruned nodes, max_depth=4\n",
      "[16:18:21] d:\\build\\xgboost\\xgboost-0.81.git\\src\\tree\\updater_prune.cc:74: tree pruning end, 1 roots, 30 extra nodes, 0 pruned nodes, max_depth=4\n",
      "[16:18:32] d:\\build\\xgboost\\xgboost-0.81.git\\src\\tree\\updater_prune.cc:74: tree pruning end, 1 roots, 30 extra nodes, 0 pruned nodes, max_depth=4\n"
     ]
    },
    {
     "name": "stdout",
     "output_type": "stream",
     "text": [
      "[16:18:44] d:\\build\\xgboost\\xgboost-0.81.git\\src\\tree\\updater_prune.cc:74: tree pruning end, 1 roots, 30 extra nodes, 0 pruned nodes, max_depth=4\n",
      "[16:18:56] d:\\build\\xgboost\\xgboost-0.81.git\\src\\tree\\updater_prune.cc:74: tree pruning end, 1 roots, 30 extra nodes, 0 pruned nodes, max_depth=4\n",
      "[16:19:08] d:\\build\\xgboost\\xgboost-0.81.git\\src\\tree\\updater_prune.cc:74: tree pruning end, 1 roots, 30 extra nodes, 0 pruned nodes, max_depth=4\n",
      "[16:19:20] d:\\build\\xgboost\\xgboost-0.81.git\\src\\tree\\updater_prune.cc:74: tree pruning end, 1 roots, 30 extra nodes, 0 pruned nodes, max_depth=4\n",
      "[110]\ttrain-logloss:0.424998\tvalid-logloss:0.424766\ttest-logloss:0.424367\n",
      "[16:19:31] d:\\build\\xgboost\\xgboost-0.81.git\\src\\tree\\updater_prune.cc:74: tree pruning end, 1 roots, 30 extra nodes, 0 pruned nodes, max_depth=4\n",
      "[16:19:41] d:\\build\\xgboost\\xgboost-0.81.git\\src\\tree\\updater_prune.cc:74: tree pruning end, 1 roots, 30 extra nodes, 0 pruned nodes, max_depth=4\n",
      "[16:19:52] d:\\build\\xgboost\\xgboost-0.81.git\\src\\tree\\updater_prune.cc:74: tree pruning end, 1 roots, 30 extra nodes, 0 pruned nodes, max_depth=4\n",
      "[16:20:03] d:\\build\\xgboost\\xgboost-0.81.git\\src\\tree\\updater_prune.cc:74: tree pruning end, 1 roots, 30 extra nodes, 0 pruned nodes, max_depth=4\n",
      "[16:20:17] d:\\build\\xgboost\\xgboost-0.81.git\\src\\tree\\updater_prune.cc:74: tree pruning end, 1 roots, 30 extra nodes, 0 pruned nodes, max_depth=4\n",
      "[16:20:36] d:\\build\\xgboost\\xgboost-0.81.git\\src\\tree\\updater_prune.cc:74: tree pruning end, 1 roots, 30 extra nodes, 0 pruned nodes, max_depth=4\n",
      "[16:20:49] d:\\build\\xgboost\\xgboost-0.81.git\\src\\tree\\updater_prune.cc:74: tree pruning end, 1 roots, 30 extra nodes, 0 pruned nodes, max_depth=4\n",
      "[16:21:06] d:\\build\\xgboost\\xgboost-0.81.git\\src\\tree\\updater_prune.cc:74: tree pruning end, 1 roots, 30 extra nodes, 0 pruned nodes, max_depth=4\n",
      "[16:21:21] d:\\build\\xgboost\\xgboost-0.81.git\\src\\tree\\updater_prune.cc:74: tree pruning end, 1 roots, 30 extra nodes, 0 pruned nodes, max_depth=4\n",
      "[16:21:37] d:\\build\\xgboost\\xgboost-0.81.git\\src\\tree\\updater_prune.cc:74: tree pruning end, 1 roots, 30 extra nodes, 0 pruned nodes, max_depth=4\n",
      "[120]\ttrain-logloss:0.419993\tvalid-logloss:0.419812\ttest-logloss:0.419373\n",
      "[16:21:51] d:\\build\\xgboost\\xgboost-0.81.git\\src\\tree\\updater_prune.cc:74: tree pruning end, 1 roots, 30 extra nodes, 0 pruned nodes, max_depth=4\n",
      "[16:22:04] d:\\build\\xgboost\\xgboost-0.81.git\\src\\tree\\updater_prune.cc:74: tree pruning end, 1 roots, 30 extra nodes, 0 pruned nodes, max_depth=4\n",
      "[16:22:22] d:\\build\\xgboost\\xgboost-0.81.git\\src\\tree\\updater_prune.cc:74: tree pruning end, 1 roots, 30 extra nodes, 0 pruned nodes, max_depth=4\n",
      "[16:22:40] d:\\build\\xgboost\\xgboost-0.81.git\\src\\tree\\updater_prune.cc:74: tree pruning end, 1 roots, 30 extra nodes, 0 pruned nodes, max_depth=4\n",
      "[16:22:55] d:\\build\\xgboost\\xgboost-0.81.git\\src\\tree\\updater_prune.cc:74: tree pruning end, 1 roots, 30 extra nodes, 0 pruned nodes, max_depth=4\n",
      "[16:23:12] d:\\build\\xgboost\\xgboost-0.81.git\\src\\tree\\updater_prune.cc:74: tree pruning end, 1 roots, 30 extra nodes, 0 pruned nodes, max_depth=4\n",
      "[16:23:27] d:\\build\\xgboost\\xgboost-0.81.git\\src\\tree\\updater_prune.cc:74: tree pruning end, 1 roots, 30 extra nodes, 0 pruned nodes, max_depth=4\n",
      "[16:23:40] d:\\build\\xgboost\\xgboost-0.81.git\\src\\tree\\updater_prune.cc:74: tree pruning end, 1 roots, 30 extra nodes, 0 pruned nodes, max_depth=4\n",
      "[16:23:54] d:\\build\\xgboost\\xgboost-0.81.git\\src\\tree\\updater_prune.cc:74: tree pruning end, 1 roots, 30 extra nodes, 0 pruned nodes, max_depth=4\n",
      "[16:24:09] d:\\build\\xgboost\\xgboost-0.81.git\\src\\tree\\updater_prune.cc:74: tree pruning end, 1 roots, 30 extra nodes, 0 pruned nodes, max_depth=4\n",
      "[130]\ttrain-logloss:0.415665\tvalid-logloss:0.415545\ttest-logloss:0.415062\n",
      "[16:24:22] d:\\build\\xgboost\\xgboost-0.81.git\\src\\tree\\updater_prune.cc:74: tree pruning end, 1 roots, 30 extra nodes, 0 pruned nodes, max_depth=4\n",
      "[16:24:34] d:\\build\\xgboost\\xgboost-0.81.git\\src\\tree\\updater_prune.cc:74: tree pruning end, 1 roots, 30 extra nodes, 0 pruned nodes, max_depth=4\n",
      "[16:24:49] d:\\build\\xgboost\\xgboost-0.81.git\\src\\tree\\updater_prune.cc:74: tree pruning end, 1 roots, 30 extra nodes, 0 pruned nodes, max_depth=4\n",
      "[16:25:03] d:\\build\\xgboost\\xgboost-0.81.git\\src\\tree\\updater_prune.cc:74: tree pruning end, 1 roots, 30 extra nodes, 0 pruned nodes, max_depth=4\n",
      "[16:25:23] d:\\build\\xgboost\\xgboost-0.81.git\\src\\tree\\updater_prune.cc:74: tree pruning end, 1 roots, 30 extra nodes, 0 pruned nodes, max_depth=4\n",
      "[16:25:35] d:\\build\\xgboost\\xgboost-0.81.git\\src\\tree\\updater_prune.cc:74: tree pruning end, 1 roots, 30 extra nodes, 0 pruned nodes, max_depth=4\n",
      "[16:25:49] d:\\build\\xgboost\\xgboost-0.81.git\\src\\tree\\updater_prune.cc:74: tree pruning end, 1 roots, 30 extra nodes, 0 pruned nodes, max_depth=4\n",
      "[16:26:00] d:\\build\\xgboost\\xgboost-0.81.git\\src\\tree\\updater_prune.cc:74: tree pruning end, 1 roots, 30 extra nodes, 0 pruned nodes, max_depth=4\n",
      "[16:26:11] d:\\build\\xgboost\\xgboost-0.81.git\\src\\tree\\updater_prune.cc:74: tree pruning end, 1 roots, 30 extra nodes, 0 pruned nodes, max_depth=4\n",
      "[16:26:23] d:\\build\\xgboost\\xgboost-0.81.git\\src\\tree\\updater_prune.cc:74: tree pruning end, 1 roots, 30 extra nodes, 0 pruned nodes, max_depth=4\n",
      "[140]\ttrain-logloss:0.411992\tvalid-logloss:0.411916\ttest-logloss:0.411376\n",
      "[16:26:31] d:\\build\\xgboost\\xgboost-0.81.git\\src\\tree\\updater_prune.cc:74: tree pruning end, 1 roots, 30 extra nodes, 0 pruned nodes, max_depth=4\n",
      "[16:26:44] d:\\build\\xgboost\\xgboost-0.81.git\\src\\tree\\updater_prune.cc:74: tree pruning end, 1 roots, 30 extra nodes, 0 pruned nodes, max_depth=4\n",
      "[16:26:55] d:\\build\\xgboost\\xgboost-0.81.git\\src\\tree\\updater_prune.cc:74: tree pruning end, 1 roots, 30 extra nodes, 0 pruned nodes, max_depth=4\n",
      "[16:27:06] d:\\build\\xgboost\\xgboost-0.81.git\\src\\tree\\updater_prune.cc:74: tree pruning end, 1 roots, 30 extra nodes, 0 pruned nodes, max_depth=4\n",
      "[16:27:17] d:\\build\\xgboost\\xgboost-0.81.git\\src\\tree\\updater_prune.cc:74: tree pruning end, 1 roots, 30 extra nodes, 0 pruned nodes, max_depth=4\n",
      "[16:27:27] d:\\build\\xgboost\\xgboost-0.81.git\\src\\tree\\updater_prune.cc:74: tree pruning end, 1 roots, 30 extra nodes, 0 pruned nodes, max_depth=4\n",
      "[16:27:37] d:\\build\\xgboost\\xgboost-0.81.git\\src\\tree\\updater_prune.cc:74: tree pruning end, 1 roots, 30 extra nodes, 0 pruned nodes, max_depth=4\n",
      "[16:27:46] d:\\build\\xgboost\\xgboost-0.81.git\\src\\tree\\updater_prune.cc:74: tree pruning end, 1 roots, 30 extra nodes, 0 pruned nodes, max_depth=4\n",
      "[16:27:56] d:\\build\\xgboost\\xgboost-0.81.git\\src\\tree\\updater_prune.cc:74: tree pruning end, 1 roots, 30 extra nodes, 0 pruned nodes, max_depth=4\n",
      "[16:28:05] d:\\build\\xgboost\\xgboost-0.81.git\\src\\tree\\updater_prune.cc:74: tree pruning end, 1 roots, 30 extra nodes, 0 pruned nodes, max_depth=4\n",
      "[150]\ttrain-logloss:0.408746\tvalid-logloss:0.408744\ttest-logloss:0.408101\n",
      "[16:28:15] d:\\build\\xgboost\\xgboost-0.81.git\\src\\tree\\updater_prune.cc:74: tree pruning end, 1 roots, 30 extra nodes, 0 pruned nodes, max_depth=4\n",
      "[16:28:24] d:\\build\\xgboost\\xgboost-0.81.git\\src\\tree\\updater_prune.cc:74: tree pruning end, 1 roots, 30 extra nodes, 0 pruned nodes, max_depth=4\n",
      "[16:28:32] d:\\build\\xgboost\\xgboost-0.81.git\\src\\tree\\updater_prune.cc:74: tree pruning end, 1 roots, 30 extra nodes, 0 pruned nodes, max_depth=4\n",
      "[16:28:42] d:\\build\\xgboost\\xgboost-0.81.git\\src\\tree\\updater_prune.cc:74: tree pruning end, 1 roots, 30 extra nodes, 0 pruned nodes, max_depth=4\n",
      "[16:28:51] d:\\build\\xgboost\\xgboost-0.81.git\\src\\tree\\updater_prune.cc:74: tree pruning end, 1 roots, 30 extra nodes, 0 pruned nodes, max_depth=4\n",
      "[16:28:59] d:\\build\\xgboost\\xgboost-0.81.git\\src\\tree\\updater_prune.cc:74: tree pruning end, 1 roots, 30 extra nodes, 0 pruned nodes, max_depth=4\n",
      "[16:29:07] d:\\build\\xgboost\\xgboost-0.81.git\\src\\tree\\updater_prune.cc:74: tree pruning end, 1 roots, 30 extra nodes, 0 pruned nodes, max_depth=4\n",
      "[16:29:15] d:\\build\\xgboost\\xgboost-0.81.git\\src\\tree\\updater_prune.cc:74: tree pruning end, 1 roots, 30 extra nodes, 0 pruned nodes, max_depth=4\n",
      "[16:29:25] d:\\build\\xgboost\\xgboost-0.81.git\\src\\tree\\updater_prune.cc:74: tree pruning end, 1 roots, 30 extra nodes, 0 pruned nodes, max_depth=4\n",
      "[16:29:34] d:\\build\\xgboost\\xgboost-0.81.git\\src\\tree\\updater_prune.cc:74: tree pruning end, 1 roots, 30 extra nodes, 0 pruned nodes, max_depth=4\n"
     ]
    },
    {
     "name": "stdout",
     "output_type": "stream",
     "text": [
      "[160]\ttrain-logloss:0.405961\tvalid-logloss:0.40606\ttest-logloss:0.405314\n",
      "[16:29:42] d:\\build\\xgboost\\xgboost-0.81.git\\src\\tree\\updater_prune.cc:74: tree pruning end, 1 roots, 30 extra nodes, 0 pruned nodes, max_depth=4\n",
      "[16:29:50] d:\\build\\xgboost\\xgboost-0.81.git\\src\\tree\\updater_prune.cc:74: tree pruning end, 1 roots, 30 extra nodes, 0 pruned nodes, max_depth=4\n",
      "[16:29:57] d:\\build\\xgboost\\xgboost-0.81.git\\src\\tree\\updater_prune.cc:74: tree pruning end, 1 roots, 30 extra nodes, 0 pruned nodes, max_depth=4\n",
      "[16:30:05] d:\\build\\xgboost\\xgboost-0.81.git\\src\\tree\\updater_prune.cc:74: tree pruning end, 1 roots, 30 extra nodes, 0 pruned nodes, max_depth=4\n",
      "[16:30:13] d:\\build\\xgboost\\xgboost-0.81.git\\src\\tree\\updater_prune.cc:74: tree pruning end, 1 roots, 30 extra nodes, 0 pruned nodes, max_depth=4\n",
      "[16:30:20] d:\\build\\xgboost\\xgboost-0.81.git\\src\\tree\\updater_prune.cc:74: tree pruning end, 1 roots, 30 extra nodes, 0 pruned nodes, max_depth=4\n",
      "[16:30:28] d:\\build\\xgboost\\xgboost-0.81.git\\src\\tree\\updater_prune.cc:74: tree pruning end, 1 roots, 30 extra nodes, 0 pruned nodes, max_depth=4\n",
      "[16:30:36] d:\\build\\xgboost\\xgboost-0.81.git\\src\\tree\\updater_prune.cc:74: tree pruning end, 1 roots, 30 extra nodes, 0 pruned nodes, max_depth=4\n",
      "[16:30:44] d:\\build\\xgboost\\xgboost-0.81.git\\src\\tree\\updater_prune.cc:74: tree pruning end, 1 roots, 30 extra nodes, 0 pruned nodes, max_depth=4\n",
      "[16:30:54] d:\\build\\xgboost\\xgboost-0.81.git\\src\\tree\\updater_prune.cc:74: tree pruning end, 1 roots, 30 extra nodes, 0 pruned nodes, max_depth=4\n",
      "[170]\ttrain-logloss:0.403582\tvalid-logloss:0.403798\ttest-logloss:0.402952\n",
      "[16:31:03] d:\\build\\xgboost\\xgboost-0.81.git\\src\\tree\\updater_prune.cc:74: tree pruning end, 1 roots, 30 extra nodes, 0 pruned nodes, max_depth=4\n",
      "[16:31:11] d:\\build\\xgboost\\xgboost-0.81.git\\src\\tree\\updater_prune.cc:74: tree pruning end, 1 roots, 30 extra nodes, 0 pruned nodes, max_depth=4\n",
      "[16:31:20] d:\\build\\xgboost\\xgboost-0.81.git\\src\\tree\\updater_prune.cc:74: tree pruning end, 1 roots, 30 extra nodes, 0 pruned nodes, max_depth=4\n",
      "[16:31:30] d:\\build\\xgboost\\xgboost-0.81.git\\src\\tree\\updater_prune.cc:74: tree pruning end, 1 roots, 30 extra nodes, 0 pruned nodes, max_depth=4\n",
      "[16:31:41] d:\\build\\xgboost\\xgboost-0.81.git\\src\\tree\\updater_prune.cc:74: tree pruning end, 1 roots, 30 extra nodes, 0 pruned nodes, max_depth=4\n",
      "[16:31:51] d:\\build\\xgboost\\xgboost-0.81.git\\src\\tree\\updater_prune.cc:74: tree pruning end, 1 roots, 30 extra nodes, 0 pruned nodes, max_depth=4\n",
      "[16:32:03] d:\\build\\xgboost\\xgboost-0.81.git\\src\\tree\\updater_prune.cc:74: tree pruning end, 1 roots, 30 extra nodes, 0 pruned nodes, max_depth=4\n",
      "[16:32:15] d:\\build\\xgboost\\xgboost-0.81.git\\src\\tree\\updater_prune.cc:74: tree pruning end, 1 roots, 30 extra nodes, 0 pruned nodes, max_depth=4\n",
      "[16:32:26] d:\\build\\xgboost\\xgboost-0.81.git\\src\\tree\\updater_prune.cc:74: tree pruning end, 1 roots, 30 extra nodes, 0 pruned nodes, max_depth=4\n",
      "[16:32:39] d:\\build\\xgboost\\xgboost-0.81.git\\src\\tree\\updater_prune.cc:74: tree pruning end, 1 roots, 30 extra nodes, 0 pruned nodes, max_depth=4\n",
      "[180]\ttrain-logloss:0.401532\tvalid-logloss:0.401857\ttest-logloss:0.400926\n",
      "[16:32:53] d:\\build\\xgboost\\xgboost-0.81.git\\src\\tree\\updater_prune.cc:74: tree pruning end, 1 roots, 30 extra nodes, 0 pruned nodes, max_depth=4\n",
      "[16:33:02] d:\\build\\xgboost\\xgboost-0.81.git\\src\\tree\\updater_prune.cc:74: tree pruning end, 1 roots, 30 extra nodes, 0 pruned nodes, max_depth=4\n",
      "[16:33:12] d:\\build\\xgboost\\xgboost-0.81.git\\src\\tree\\updater_prune.cc:74: tree pruning end, 1 roots, 30 extra nodes, 0 pruned nodes, max_depth=4\n",
      "[16:33:23] d:\\build\\xgboost\\xgboost-0.81.git\\src\\tree\\updater_prune.cc:74: tree pruning end, 1 roots, 30 extra nodes, 0 pruned nodes, max_depth=4\n",
      "[16:33:34] d:\\build\\xgboost\\xgboost-0.81.git\\src\\tree\\updater_prune.cc:74: tree pruning end, 1 roots, 30 extra nodes, 0 pruned nodes, max_depth=4\n",
      "[16:33:43] d:\\build\\xgboost\\xgboost-0.81.git\\src\\tree\\updater_prune.cc:74: tree pruning end, 1 roots, 30 extra nodes, 0 pruned nodes, max_depth=4\n",
      "[16:33:52] d:\\build\\xgboost\\xgboost-0.81.git\\src\\tree\\updater_prune.cc:74: tree pruning end, 1 roots, 30 extra nodes, 0 pruned nodes, max_depth=4\n",
      "[16:34:01] d:\\build\\xgboost\\xgboost-0.81.git\\src\\tree\\updater_prune.cc:74: tree pruning end, 1 roots, 30 extra nodes, 0 pruned nodes, max_depth=4\n",
      "[16:34:11] d:\\build\\xgboost\\xgboost-0.81.git\\src\\tree\\updater_prune.cc:74: tree pruning end, 1 roots, 30 extra nodes, 0 pruned nodes, max_depth=4\n",
      "[16:34:21] d:\\build\\xgboost\\xgboost-0.81.git\\src\\tree\\updater_prune.cc:74: tree pruning end, 1 roots, 30 extra nodes, 0 pruned nodes, max_depth=4\n",
      "[190]\ttrain-logloss:0.399615\tvalid-logloss:0.400056\ttest-logloss:0.399036\n",
      "[16:34:32] d:\\build\\xgboost\\xgboost-0.81.git\\src\\tree\\updater_prune.cc:74: tree pruning end, 1 roots, 30 extra nodes, 0 pruned nodes, max_depth=4\n",
      "[16:34:41] d:\\build\\xgboost\\xgboost-0.81.git\\src\\tree\\updater_prune.cc:74: tree pruning end, 1 roots, 30 extra nodes, 0 pruned nodes, max_depth=4\n",
      "[16:34:51] d:\\build\\xgboost\\xgboost-0.81.git\\src\\tree\\updater_prune.cc:74: tree pruning end, 1 roots, 30 extra nodes, 0 pruned nodes, max_depth=4\n",
      "[16:35:03] d:\\build\\xgboost\\xgboost-0.81.git\\src\\tree\\updater_prune.cc:74: tree pruning end, 1 roots, 30 extra nodes, 0 pruned nodes, max_depth=4\n",
      "[16:35:12] d:\\build\\xgboost\\xgboost-0.81.git\\src\\tree\\updater_prune.cc:74: tree pruning end, 1 roots, 30 extra nodes, 0 pruned nodes, max_depth=4\n",
      "[16:35:22] d:\\build\\xgboost\\xgboost-0.81.git\\src\\tree\\updater_prune.cc:74: tree pruning end, 1 roots, 30 extra nodes, 0 pruned nodes, max_depth=4\n",
      "[16:35:32] d:\\build\\xgboost\\xgboost-0.81.git\\src\\tree\\updater_prune.cc:74: tree pruning end, 1 roots, 30 extra nodes, 0 pruned nodes, max_depth=4\n",
      "[16:35:40] d:\\build\\xgboost\\xgboost-0.81.git\\src\\tree\\updater_prune.cc:74: tree pruning end, 1 roots, 30 extra nodes, 0 pruned nodes, max_depth=4\n",
      "[16:35:50] d:\\build\\xgboost\\xgboost-0.81.git\\src\\tree\\updater_prune.cc:74: tree pruning end, 1 roots, 30 extra nodes, 0 pruned nodes, max_depth=4\n",
      "[16:35:59] d:\\build\\xgboost\\xgboost-0.81.git\\src\\tree\\updater_prune.cc:74: tree pruning end, 1 roots, 30 extra nodes, 0 pruned nodes, max_depth=4\n",
      "[200]\ttrain-logloss:0.397904\tvalid-logloss:0.398454\ttest-logloss:0.397342\n",
      "[16:36:08] d:\\build\\xgboost\\xgboost-0.81.git\\src\\tree\\updater_prune.cc:74: tree pruning end, 1 roots, 30 extra nodes, 0 pruned nodes, max_depth=4\n",
      "[16:36:17] d:\\build\\xgboost\\xgboost-0.81.git\\src\\tree\\updater_prune.cc:74: tree pruning end, 1 roots, 30 extra nodes, 0 pruned nodes, max_depth=4\n",
      "[16:36:26] d:\\build\\xgboost\\xgboost-0.81.git\\src\\tree\\updater_prune.cc:74: tree pruning end, 1 roots, 30 extra nodes, 0 pruned nodes, max_depth=4\n",
      "[16:36:37] d:\\build\\xgboost\\xgboost-0.81.git\\src\\tree\\updater_prune.cc:74: tree pruning end, 1 roots, 30 extra nodes, 0 pruned nodes, max_depth=4\n",
      "[16:36:46] d:\\build\\xgboost\\xgboost-0.81.git\\src\\tree\\updater_prune.cc:74: tree pruning end, 1 roots, 30 extra nodes, 0 pruned nodes, max_depth=4\n",
      "[16:36:54] d:\\build\\xgboost\\xgboost-0.81.git\\src\\tree\\updater_prune.cc:74: tree pruning end, 1 roots, 30 extra nodes, 0 pruned nodes, max_depth=4\n",
      "[16:37:04] d:\\build\\xgboost\\xgboost-0.81.git\\src\\tree\\updater_prune.cc:74: tree pruning end, 1 roots, 30 extra nodes, 0 pruned nodes, max_depth=4\n",
      "[16:37:12] d:\\build\\xgboost\\xgboost-0.81.git\\src\\tree\\updater_prune.cc:74: tree pruning end, 1 roots, 30 extra nodes, 0 pruned nodes, max_depth=4\n",
      "[16:37:25] d:\\build\\xgboost\\xgboost-0.81.git\\src\\tree\\updater_prune.cc:74: tree pruning end, 1 roots, 30 extra nodes, 0 pruned nodes, max_depth=4\n",
      "[16:37:35] d:\\build\\xgboost\\xgboost-0.81.git\\src\\tree\\updater_prune.cc:74: tree pruning end, 1 roots, 30 extra nodes, 0 pruned nodes, max_depth=4\n",
      "[210]\ttrain-logloss:0.396437\tvalid-logloss:0.397081\ttest-logloss:0.395897\n",
      "[16:37:45] d:\\build\\xgboost\\xgboost-0.81.git\\src\\tree\\updater_prune.cc:74: tree pruning end, 1 roots, 28 extra nodes, 0 pruned nodes, max_depth=4\n",
      "[16:37:53] d:\\build\\xgboost\\xgboost-0.81.git\\src\\tree\\updater_prune.cc:74: tree pruning end, 1 roots, 30 extra nodes, 0 pruned nodes, max_depth=4\n",
      "[16:38:02] d:\\build\\xgboost\\xgboost-0.81.git\\src\\tree\\updater_prune.cc:74: tree pruning end, 1 roots, 30 extra nodes, 0 pruned nodes, max_depth=4\n",
      "[16:38:12] d:\\build\\xgboost\\xgboost-0.81.git\\src\\tree\\updater_prune.cc:74: tree pruning end, 1 roots, 30 extra nodes, 0 pruned nodes, max_depth=4\n"
     ]
    },
    {
     "name": "stdout",
     "output_type": "stream",
     "text": [
      "[16:38:21] d:\\build\\xgboost\\xgboost-0.81.git\\src\\tree\\updater_prune.cc:74: tree pruning end, 1 roots, 30 extra nodes, 0 pruned nodes, max_depth=4\n",
      "[16:38:29] d:\\build\\xgboost\\xgboost-0.81.git\\src\\tree\\updater_prune.cc:74: tree pruning end, 1 roots, 30 extra nodes, 0 pruned nodes, max_depth=4\n",
      "[16:38:38] d:\\build\\xgboost\\xgboost-0.81.git\\src\\tree\\updater_prune.cc:74: tree pruning end, 1 roots, 30 extra nodes, 0 pruned nodes, max_depth=4\n",
      "[16:38:46] d:\\build\\xgboost\\xgboost-0.81.git\\src\\tree\\updater_prune.cc:74: tree pruning end, 1 roots, 30 extra nodes, 0 pruned nodes, max_depth=4\n",
      "[16:38:54] d:\\build\\xgboost\\xgboost-0.81.git\\src\\tree\\updater_prune.cc:74: tree pruning end, 1 roots, 30 extra nodes, 0 pruned nodes, max_depth=4\n",
      "[16:39:03] d:\\build\\xgboost\\xgboost-0.81.git\\src\\tree\\updater_prune.cc:74: tree pruning end, 1 roots, 30 extra nodes, 0 pruned nodes, max_depth=4\n",
      "[220]\ttrain-logloss:0.395068\tvalid-logloss:0.395807\ttest-logloss:0.394557\n",
      "[16:39:11] d:\\build\\xgboost\\xgboost-0.81.git\\src\\tree\\updater_prune.cc:74: tree pruning end, 1 roots, 28 extra nodes, 0 pruned nodes, max_depth=4\n",
      "[16:39:19] d:\\build\\xgboost\\xgboost-0.81.git\\src\\tree\\updater_prune.cc:74: tree pruning end, 1 roots, 30 extra nodes, 0 pruned nodes, max_depth=4\n",
      "[16:39:27] d:\\build\\xgboost\\xgboost-0.81.git\\src\\tree\\updater_prune.cc:74: tree pruning end, 1 roots, 30 extra nodes, 0 pruned nodes, max_depth=4\n",
      "[16:39:35] d:\\build\\xgboost\\xgboost-0.81.git\\src\\tree\\updater_prune.cc:74: tree pruning end, 1 roots, 30 extra nodes, 0 pruned nodes, max_depth=4\n",
      "[16:39:43] d:\\build\\xgboost\\xgboost-0.81.git\\src\\tree\\updater_prune.cc:74: tree pruning end, 1 roots, 30 extra nodes, 0 pruned nodes, max_depth=4\n",
      "[16:39:51] d:\\build\\xgboost\\xgboost-0.81.git\\src\\tree\\updater_prune.cc:74: tree pruning end, 1 roots, 30 extra nodes, 0 pruned nodes, max_depth=4\n",
      "[16:40:01] d:\\build\\xgboost\\xgboost-0.81.git\\src\\tree\\updater_prune.cc:74: tree pruning end, 1 roots, 30 extra nodes, 0 pruned nodes, max_depth=4\n",
      "[16:40:10] d:\\build\\xgboost\\xgboost-0.81.git\\src\\tree\\updater_prune.cc:74: tree pruning end, 1 roots, 30 extra nodes, 0 pruned nodes, max_depth=4\n",
      "[16:40:18] d:\\build\\xgboost\\xgboost-0.81.git\\src\\tree\\updater_prune.cc:74: tree pruning end, 1 roots, 30 extra nodes, 0 pruned nodes, max_depth=4\n",
      "[16:40:25] d:\\build\\xgboost\\xgboost-0.81.git\\src\\tree\\updater_prune.cc:74: tree pruning end, 1 roots, 28 extra nodes, 0 pruned nodes, max_depth=4\n",
      "[230]\ttrain-logloss:0.393794\tvalid-logloss:0.394594\ttest-logloss:0.39333\n",
      "[16:40:33] d:\\build\\xgboost\\xgboost-0.81.git\\src\\tree\\updater_prune.cc:74: tree pruning end, 1 roots, 30 extra nodes, 0 pruned nodes, max_depth=4\n",
      "[16:40:41] d:\\build\\xgboost\\xgboost-0.81.git\\src\\tree\\updater_prune.cc:74: tree pruning end, 1 roots, 30 extra nodes, 0 pruned nodes, max_depth=4\n",
      "[16:40:48] d:\\build\\xgboost\\xgboost-0.81.git\\src\\tree\\updater_prune.cc:74: tree pruning end, 1 roots, 30 extra nodes, 0 pruned nodes, max_depth=4\n",
      "[16:40:56] d:\\build\\xgboost\\xgboost-0.81.git\\src\\tree\\updater_prune.cc:74: tree pruning end, 1 roots, 30 extra nodes, 0 pruned nodes, max_depth=4\n",
      "[16:41:05] d:\\build\\xgboost\\xgboost-0.81.git\\src\\tree\\updater_prune.cc:74: tree pruning end, 1 roots, 30 extra nodes, 0 pruned nodes, max_depth=4\n",
      "[16:41:13] d:\\build\\xgboost\\xgboost-0.81.git\\src\\tree\\updater_prune.cc:74: tree pruning end, 1 roots, 30 extra nodes, 0 pruned nodes, max_depth=4\n",
      "[16:41:22] d:\\build\\xgboost\\xgboost-0.81.git\\src\\tree\\updater_prune.cc:74: tree pruning end, 1 roots, 30 extra nodes, 0 pruned nodes, max_depth=4\n",
      "[16:41:31] d:\\build\\xgboost\\xgboost-0.81.git\\src\\tree\\updater_prune.cc:74: tree pruning end, 1 roots, 30 extra nodes, 0 pruned nodes, max_depth=4\n",
      "[16:41:38] d:\\build\\xgboost\\xgboost-0.81.git\\src\\tree\\updater_prune.cc:74: tree pruning end, 1 roots, 28 extra nodes, 0 pruned nodes, max_depth=4\n",
      "[16:41:50] d:\\build\\xgboost\\xgboost-0.81.git\\src\\tree\\updater_prune.cc:74: tree pruning end, 1 roots, 30 extra nodes, 0 pruned nodes, max_depth=4\n",
      "[240]\ttrain-logloss:0.392648\tvalid-logloss:0.393517\ttest-logloss:0.392206\n",
      "[16:42:00] d:\\build\\xgboost\\xgboost-0.81.git\\src\\tree\\updater_prune.cc:74: tree pruning end, 1 roots, 30 extra nodes, 0 pruned nodes, max_depth=4\n",
      "[16:42:09] d:\\build\\xgboost\\xgboost-0.81.git\\src\\tree\\updater_prune.cc:74: tree pruning end, 1 roots, 30 extra nodes, 0 pruned nodes, max_depth=4\n",
      "[16:42:18] d:\\build\\xgboost\\xgboost-0.81.git\\src\\tree\\updater_prune.cc:74: tree pruning end, 1 roots, 30 extra nodes, 0 pruned nodes, max_depth=4\n",
      "[16:42:29] d:\\build\\xgboost\\xgboost-0.81.git\\src\\tree\\updater_prune.cc:74: tree pruning end, 1 roots, 30 extra nodes, 0 pruned nodes, max_depth=4\n",
      "[16:42:41] d:\\build\\xgboost\\xgboost-0.81.git\\src\\tree\\updater_prune.cc:74: tree pruning end, 1 roots, 30 extra nodes, 0 pruned nodes, max_depth=4\n",
      "[16:42:51] d:\\build\\xgboost\\xgboost-0.81.git\\src\\tree\\updater_prune.cc:74: tree pruning end, 1 roots, 30 extra nodes, 0 pruned nodes, max_depth=4\n",
      "[16:42:59] d:\\build\\xgboost\\xgboost-0.81.git\\src\\tree\\updater_prune.cc:74: tree pruning end, 1 roots, 30 extra nodes, 0 pruned nodes, max_depth=4\n",
      "[16:43:06] d:\\build\\xgboost\\xgboost-0.81.git\\src\\tree\\updater_prune.cc:74: tree pruning end, 1 roots, 28 extra nodes, 0 pruned nodes, max_depth=4\n",
      "[16:43:15] d:\\build\\xgboost\\xgboost-0.81.git\\src\\tree\\updater_prune.cc:74: tree pruning end, 1 roots, 30 extra nodes, 0 pruned nodes, max_depth=4\n",
      "[16:43:23] d:\\build\\xgboost\\xgboost-0.81.git\\src\\tree\\updater_prune.cc:74: tree pruning end, 1 roots, 30 extra nodes, 0 pruned nodes, max_depth=4\n",
      "[250]\ttrain-logloss:0.39161\tvalid-logloss:0.392557\ttest-logloss:0.391215\n",
      "[16:43:31] d:\\build\\xgboost\\xgboost-0.81.git\\src\\tree\\updater_prune.cc:74: tree pruning end, 1 roots, 30 extra nodes, 0 pruned nodes, max_depth=4\n",
      "[16:43:39] d:\\build\\xgboost\\xgboost-0.81.git\\src\\tree\\updater_prune.cc:74: tree pruning end, 1 roots, 30 extra nodes, 0 pruned nodes, max_depth=4\n",
      "[16:43:47] d:\\build\\xgboost\\xgboost-0.81.git\\src\\tree\\updater_prune.cc:74: tree pruning end, 1 roots, 30 extra nodes, 0 pruned nodes, max_depth=4\n",
      "[16:43:54] d:\\build\\xgboost\\xgboost-0.81.git\\src\\tree\\updater_prune.cc:74: tree pruning end, 1 roots, 30 extra nodes, 0 pruned nodes, max_depth=4\n",
      "[16:44:02] d:\\build\\xgboost\\xgboost-0.81.git\\src\\tree\\updater_prune.cc:74: tree pruning end, 1 roots, 30 extra nodes, 0 pruned nodes, max_depth=4\n",
      "[16:44:10] d:\\build\\xgboost\\xgboost-0.81.git\\src\\tree\\updater_prune.cc:74: tree pruning end, 1 roots, 30 extra nodes, 0 pruned nodes, max_depth=4\n",
      "[16:44:18] d:\\build\\xgboost\\xgboost-0.81.git\\src\\tree\\updater_prune.cc:74: tree pruning end, 1 roots, 30 extra nodes, 0 pruned nodes, max_depth=4\n",
      "[16:44:25] d:\\build\\xgboost\\xgboost-0.81.git\\src\\tree\\updater_prune.cc:74: tree pruning end, 1 roots, 30 extra nodes, 0 pruned nodes, max_depth=4\n",
      "[16:44:33] d:\\build\\xgboost\\xgboost-0.81.git\\src\\tree\\updater_prune.cc:74: tree pruning end, 1 roots, 28 extra nodes, 0 pruned nodes, max_depth=4\n",
      "[16:44:41] d:\\build\\xgboost\\xgboost-0.81.git\\src\\tree\\updater_prune.cc:74: tree pruning end, 1 roots, 30 extra nodes, 0 pruned nodes, max_depth=4\n",
      "[260]\ttrain-logloss:0.390604\tvalid-logloss:0.391635\ttest-logloss:0.390263\n",
      "[16:44:49] d:\\build\\xgboost\\xgboost-0.81.git\\src\\tree\\updater_prune.cc:74: tree pruning end, 1 roots, 30 extra nodes, 0 pruned nodes, max_depth=4\n",
      "[16:44:56] d:\\build\\xgboost\\xgboost-0.81.git\\src\\tree\\updater_prune.cc:74: tree pruning end, 1 roots, 30 extra nodes, 0 pruned nodes, max_depth=4\n",
      "[16:45:06] d:\\build\\xgboost\\xgboost-0.81.git\\src\\tree\\updater_prune.cc:74: tree pruning end, 1 roots, 30 extra nodes, 0 pruned nodes, max_depth=4\n",
      "[16:45:15] d:\\build\\xgboost\\xgboost-0.81.git\\src\\tree\\updater_prune.cc:74: tree pruning end, 1 roots, 30 extra nodes, 0 pruned nodes, max_depth=4\n",
      "[16:45:25] d:\\build\\xgboost\\xgboost-0.81.git\\src\\tree\\updater_prune.cc:74: tree pruning end, 1 roots, 30 extra nodes, 0 pruned nodes, max_depth=4\n",
      "[16:45:35] d:\\build\\xgboost\\xgboost-0.81.git\\src\\tree\\updater_prune.cc:74: tree pruning end, 1 roots, 30 extra nodes, 0 pruned nodes, max_depth=4\n",
      "[16:45:46] d:\\build\\xgboost\\xgboost-0.81.git\\src\\tree\\updater_prune.cc:74: tree pruning end, 1 roots, 30 extra nodes, 0 pruned nodes, max_depth=4\n",
      "[16:45:57] d:\\build\\xgboost\\xgboost-0.81.git\\src\\tree\\updater_prune.cc:74: tree pruning end, 1 roots, 30 extra nodes, 0 pruned nodes, max_depth=4\n"
     ]
    },
    {
     "name": "stdout",
     "output_type": "stream",
     "text": [
      "[16:46:06] d:\\build\\xgboost\\xgboost-0.81.git\\src\\tree\\updater_prune.cc:74: tree pruning end, 1 roots, 28 extra nodes, 0 pruned nodes, max_depth=4\n",
      "[16:46:16] d:\\build\\xgboost\\xgboost-0.81.git\\src\\tree\\updater_prune.cc:74: tree pruning end, 1 roots, 30 extra nodes, 0 pruned nodes, max_depth=4\n",
      "[270]\ttrain-logloss:0.389753\tvalid-logloss:0.390866\ttest-logloss:0.389476\n",
      "[16:46:24] d:\\build\\xgboost\\xgboost-0.81.git\\src\\tree\\updater_prune.cc:74: tree pruning end, 1 roots, 30 extra nodes, 0 pruned nodes, max_depth=4\n",
      "[16:46:35] d:\\build\\xgboost\\xgboost-0.81.git\\src\\tree\\updater_prune.cc:74: tree pruning end, 1 roots, 30 extra nodes, 0 pruned nodes, max_depth=4\n",
      "[16:46:43] d:\\build\\xgboost\\xgboost-0.81.git\\src\\tree\\updater_prune.cc:74: tree pruning end, 1 roots, 30 extra nodes, 0 pruned nodes, max_depth=4\n",
      "[16:46:52] d:\\build\\xgboost\\xgboost-0.81.git\\src\\tree\\updater_prune.cc:74: tree pruning end, 1 roots, 30 extra nodes, 0 pruned nodes, max_depth=4\n",
      "[16:47:01] d:\\build\\xgboost\\xgboost-0.81.git\\src\\tree\\updater_prune.cc:74: tree pruning end, 1 roots, 28 extra nodes, 0 pruned nodes, max_depth=4\n",
      "[16:47:09] d:\\build\\xgboost\\xgboost-0.81.git\\src\\tree\\updater_prune.cc:74: tree pruning end, 1 roots, 30 extra nodes, 0 pruned nodes, max_depth=4\n",
      "[16:47:18] d:\\build\\xgboost\\xgboost-0.81.git\\src\\tree\\updater_prune.cc:74: tree pruning end, 1 roots, 30 extra nodes, 0 pruned nodes, max_depth=4\n",
      "[16:47:26] d:\\build\\xgboost\\xgboost-0.81.git\\src\\tree\\updater_prune.cc:74: tree pruning end, 1 roots, 30 extra nodes, 0 pruned nodes, max_depth=4\n",
      "[16:47:34] d:\\build\\xgboost\\xgboost-0.81.git\\src\\tree\\updater_prune.cc:74: tree pruning end, 1 roots, 26 extra nodes, 0 pruned nodes, max_depth=4\n",
      "[16:47:42] d:\\build\\xgboost\\xgboost-0.81.git\\src\\tree\\updater_prune.cc:74: tree pruning end, 1 roots, 28 extra nodes, 0 pruned nodes, max_depth=4\n",
      "[280]\ttrain-logloss:0.388877\tvalid-logloss:0.390072\ttest-logloss:0.388652\n",
      "[16:48:01] d:\\build\\xgboost\\xgboost-0.81.git\\src\\tree\\updater_prune.cc:74: tree pruning end, 1 roots, 30 extra nodes, 0 pruned nodes, max_depth=4\n",
      "[16:48:11] d:\\build\\xgboost\\xgboost-0.81.git\\src\\tree\\updater_prune.cc:74: tree pruning end, 1 roots, 30 extra nodes, 0 pruned nodes, max_depth=4\n",
      "[16:48:19] d:\\build\\xgboost\\xgboost-0.81.git\\src\\tree\\updater_prune.cc:74: tree pruning end, 1 roots, 30 extra nodes, 0 pruned nodes, max_depth=4\n",
      "[16:48:28] d:\\build\\xgboost\\xgboost-0.81.git\\src\\tree\\updater_prune.cc:74: tree pruning end, 1 roots, 30 extra nodes, 0 pruned nodes, max_depth=4\n",
      "[16:48:38] d:\\build\\xgboost\\xgboost-0.81.git\\src\\tree\\updater_prune.cc:74: tree pruning end, 1 roots, 30 extra nodes, 0 pruned nodes, max_depth=4\n",
      "[16:48:49] d:\\build\\xgboost\\xgboost-0.81.git\\src\\tree\\updater_prune.cc:74: tree pruning end, 1 roots, 26 extra nodes, 0 pruned nodes, max_depth=4\n",
      "[16:48:58] d:\\build\\xgboost\\xgboost-0.81.git\\src\\tree\\updater_prune.cc:74: tree pruning end, 1 roots, 30 extra nodes, 0 pruned nodes, max_depth=4\n",
      "[16:49:09] d:\\build\\xgboost\\xgboost-0.81.git\\src\\tree\\updater_prune.cc:74: tree pruning end, 1 roots, 30 extra nodes, 0 pruned nodes, max_depth=4\n",
      "[16:49:18] d:\\build\\xgboost\\xgboost-0.81.git\\src\\tree\\updater_prune.cc:74: tree pruning end, 1 roots, 30 extra nodes, 0 pruned nodes, max_depth=4\n",
      "[16:49:29] d:\\build\\xgboost\\xgboost-0.81.git\\src\\tree\\updater_prune.cc:74: tree pruning end, 1 roots, 30 extra nodes, 0 pruned nodes, max_depth=4\n",
      "[290]\ttrain-logloss:0.388038\tvalid-logloss:0.389322\ttest-logloss:0.38788\n",
      "[16:49:37] d:\\build\\xgboost\\xgboost-0.81.git\\src\\tree\\updater_prune.cc:74: tree pruning end, 1 roots, 28 extra nodes, 0 pruned nodes, max_depth=4\n",
      "[16:49:49] d:\\build\\xgboost\\xgboost-0.81.git\\src\\tree\\updater_prune.cc:74: tree pruning end, 1 roots, 30 extra nodes, 0 pruned nodes, max_depth=4\n",
      "[16:49:58] d:\\build\\xgboost\\xgboost-0.81.git\\src\\tree\\updater_prune.cc:74: tree pruning end, 1 roots, 30 extra nodes, 0 pruned nodes, max_depth=4\n",
      "[16:50:07] d:\\build\\xgboost\\xgboost-0.81.git\\src\\tree\\updater_prune.cc:74: tree pruning end, 1 roots, 30 extra nodes, 0 pruned nodes, max_depth=4\n",
      "[16:50:15] d:\\build\\xgboost\\xgboost-0.81.git\\src\\tree\\updater_prune.cc:74: tree pruning end, 1 roots, 30 extra nodes, 0 pruned nodes, max_depth=4\n",
      "[16:50:24] d:\\build\\xgboost\\xgboost-0.81.git\\src\\tree\\updater_prune.cc:74: tree pruning end, 1 roots, 30 extra nodes, 0 pruned nodes, max_depth=4\n",
      "[16:50:32] d:\\build\\xgboost\\xgboost-0.81.git\\src\\tree\\updater_prune.cc:74: tree pruning end, 1 roots, 30 extra nodes, 0 pruned nodes, max_depth=4\n",
      "[16:50:40] d:\\build\\xgboost\\xgboost-0.81.git\\src\\tree\\updater_prune.cc:74: tree pruning end, 1 roots, 30 extra nodes, 0 pruned nodes, max_depth=4\n",
      "[16:50:49] d:\\build\\xgboost\\xgboost-0.81.git\\src\\tree\\updater_prune.cc:74: tree pruning end, 1 roots, 26 extra nodes, 0 pruned nodes, max_depth=4\n",
      "[16:50:57] d:\\build\\xgboost\\xgboost-0.81.git\\src\\tree\\updater_prune.cc:74: tree pruning end, 1 roots, 30 extra nodes, 0 pruned nodes, max_depth=4\n",
      "[300]\ttrain-logloss:0.387222\tvalid-logloss:0.388605\ttest-logloss:0.387134\n",
      "[16:51:04] d:\\build\\xgboost\\xgboost-0.81.git\\src\\tree\\updater_prune.cc:74: tree pruning end, 1 roots, 28 extra nodes, 0 pruned nodes, max_depth=4\n",
      "[16:51:11] d:\\build\\xgboost\\xgboost-0.81.git\\src\\tree\\updater_prune.cc:74: tree pruning end, 1 roots, 26 extra nodes, 0 pruned nodes, max_depth=4\n",
      "[16:51:19] d:\\build\\xgboost\\xgboost-0.81.git\\src\\tree\\updater_prune.cc:74: tree pruning end, 1 roots, 30 extra nodes, 0 pruned nodes, max_depth=4\n",
      "[16:51:26] d:\\build\\xgboost\\xgboost-0.81.git\\src\\tree\\updater_prune.cc:74: tree pruning end, 1 roots, 28 extra nodes, 0 pruned nodes, max_depth=4\n",
      "[16:51:34] d:\\build\\xgboost\\xgboost-0.81.git\\src\\tree\\updater_prune.cc:74: tree pruning end, 1 roots, 30 extra nodes, 0 pruned nodes, max_depth=4\n",
      "[16:51:42] d:\\build\\xgboost\\xgboost-0.81.git\\src\\tree\\updater_prune.cc:74: tree pruning end, 1 roots, 30 extra nodes, 0 pruned nodes, max_depth=4\n",
      "[16:51:49] d:\\build\\xgboost\\xgboost-0.81.git\\src\\tree\\updater_prune.cc:74: tree pruning end, 1 roots, 30 extra nodes, 0 pruned nodes, max_depth=4\n",
      "[16:51:56] d:\\build\\xgboost\\xgboost-0.81.git\\src\\tree\\updater_prune.cc:74: tree pruning end, 1 roots, 26 extra nodes, 0 pruned nodes, max_depth=4\n",
      "[16:52:05] d:\\build\\xgboost\\xgboost-0.81.git\\src\\tree\\updater_prune.cc:74: tree pruning end, 1 roots, 30 extra nodes, 0 pruned nodes, max_depth=4\n",
      "[16:52:16] d:\\build\\xgboost\\xgboost-0.81.git\\src\\tree\\updater_prune.cc:74: tree pruning end, 1 roots, 30 extra nodes, 0 pruned nodes, max_depth=4\n",
      "[310]\ttrain-logloss:0.38648\tvalid-logloss:0.387956\ttest-logloss:0.386442\n",
      "[16:52:24] d:\\build\\xgboost\\xgboost-0.81.git\\src\\tree\\updater_prune.cc:74: tree pruning end, 1 roots, 28 extra nodes, 0 pruned nodes, max_depth=4\n",
      "[16:52:34] d:\\build\\xgboost\\xgboost-0.81.git\\src\\tree\\updater_prune.cc:74: tree pruning end, 1 roots, 30 extra nodes, 0 pruned nodes, max_depth=4\n",
      "[16:52:43] d:\\build\\xgboost\\xgboost-0.81.git\\src\\tree\\updater_prune.cc:74: tree pruning end, 1 roots, 30 extra nodes, 0 pruned nodes, max_depth=4\n",
      "[16:52:50] d:\\build\\xgboost\\xgboost-0.81.git\\src\\tree\\updater_prune.cc:74: tree pruning end, 1 roots, 26 extra nodes, 0 pruned nodes, max_depth=4\n",
      "[16:52:58] d:\\build\\xgboost\\xgboost-0.81.git\\src\\tree\\updater_prune.cc:74: tree pruning end, 1 roots, 30 extra nodes, 0 pruned nodes, max_depth=4\n",
      "[16:53:06] d:\\build\\xgboost\\xgboost-0.81.git\\src\\tree\\updater_prune.cc:74: tree pruning end, 1 roots, 30 extra nodes, 0 pruned nodes, max_depth=4\n",
      "[16:53:14] d:\\build\\xgboost\\xgboost-0.81.git\\src\\tree\\updater_prune.cc:74: tree pruning end, 1 roots, 30 extra nodes, 0 pruned nodes, max_depth=4\n",
      "[16:53:22] d:\\build\\xgboost\\xgboost-0.81.git\\src\\tree\\updater_prune.cc:74: tree pruning end, 1 roots, 30 extra nodes, 0 pruned nodes, max_depth=4\n",
      "[16:53:29] d:\\build\\xgboost\\xgboost-0.81.git\\src\\tree\\updater_prune.cc:74: tree pruning end, 1 roots, 30 extra nodes, 0 pruned nodes, max_depth=4\n",
      "[16:53:37] d:\\build\\xgboost\\xgboost-0.81.git\\src\\tree\\updater_prune.cc:74: tree pruning end, 1 roots, 26 extra nodes, 0 pruned nodes, max_depth=4\n",
      "[320]\ttrain-logloss:0.385775\tvalid-logloss:0.387357\ttest-logloss:0.385791\n",
      "[16:53:44] d:\\build\\xgboost\\xgboost-0.81.git\\src\\tree\\updater_prune.cc:74: tree pruning end, 1 roots, 30 extra nodes, 0 pruned nodes, max_depth=4\n",
      "[16:53:52] d:\\build\\xgboost\\xgboost-0.81.git\\src\\tree\\updater_prune.cc:74: tree pruning end, 1 roots, 30 extra nodes, 0 pruned nodes, max_depth=4\n"
     ]
    },
    {
     "name": "stdout",
     "output_type": "stream",
     "text": [
      "[16:53:59] d:\\build\\xgboost\\xgboost-0.81.git\\src\\tree\\updater_prune.cc:74: tree pruning end, 1 roots, 30 extra nodes, 0 pruned nodes, max_depth=4\n",
      "[16:54:06] d:\\build\\xgboost\\xgboost-0.81.git\\src\\tree\\updater_prune.cc:74: tree pruning end, 1 roots, 30 extra nodes, 0 pruned nodes, max_depth=4\n",
      "[16:54:13] d:\\build\\xgboost\\xgboost-0.81.git\\src\\tree\\updater_prune.cc:74: tree pruning end, 1 roots, 28 extra nodes, 0 pruned nodes, max_depth=4\n",
      "[16:54:20] d:\\build\\xgboost\\xgboost-0.81.git\\src\\tree\\updater_prune.cc:74: tree pruning end, 1 roots, 28 extra nodes, 0 pruned nodes, max_depth=4\n",
      "[16:54:27] d:\\build\\xgboost\\xgboost-0.81.git\\src\\tree\\updater_prune.cc:74: tree pruning end, 1 roots, 30 extra nodes, 0 pruned nodes, max_depth=4\n",
      "[16:54:34] d:\\build\\xgboost\\xgboost-0.81.git\\src\\tree\\updater_prune.cc:74: tree pruning end, 1 roots, 28 extra nodes, 0 pruned nodes, max_depth=4\n",
      "[16:54:42] d:\\build\\xgboost\\xgboost-0.81.git\\src\\tree\\updater_prune.cc:74: tree pruning end, 1 roots, 28 extra nodes, 0 pruned nodes, max_depth=4\n",
      "[16:54:48] d:\\build\\xgboost\\xgboost-0.81.git\\src\\tree\\updater_prune.cc:74: tree pruning end, 1 roots, 30 extra nodes, 0 pruned nodes, max_depth=4\n",
      "[330]\ttrain-logloss:0.385079\tvalid-logloss:0.386739\ttest-logloss:0.385125\n",
      "[16:54:56] d:\\build\\xgboost\\xgboost-0.81.git\\src\\tree\\updater_prune.cc:74: tree pruning end, 1 roots, 28 extra nodes, 0 pruned nodes, max_depth=4\n",
      "[16:55:03] d:\\build\\xgboost\\xgboost-0.81.git\\src\\tree\\updater_prune.cc:74: tree pruning end, 1 roots, 30 extra nodes, 0 pruned nodes, max_depth=4\n",
      "[16:55:11] d:\\build\\xgboost\\xgboost-0.81.git\\src\\tree\\updater_prune.cc:74: tree pruning end, 1 roots, 30 extra nodes, 0 pruned nodes, max_depth=4\n",
      "[16:55:18] d:\\build\\xgboost\\xgboost-0.81.git\\src\\tree\\updater_prune.cc:74: tree pruning end, 1 roots, 30 extra nodes, 0 pruned nodes, max_depth=4\n",
      "[16:55:26] d:\\build\\xgboost\\xgboost-0.81.git\\src\\tree\\updater_prune.cc:74: tree pruning end, 1 roots, 30 extra nodes, 0 pruned nodes, max_depth=4\n",
      "[16:55:34] d:\\build\\xgboost\\xgboost-0.81.git\\src\\tree\\updater_prune.cc:74: tree pruning end, 1 roots, 28 extra nodes, 0 pruned nodes, max_depth=4\n",
      "[16:55:41] d:\\build\\xgboost\\xgboost-0.81.git\\src\\tree\\updater_prune.cc:74: tree pruning end, 1 roots, 28 extra nodes, 0 pruned nodes, max_depth=4\n",
      "[16:55:50] d:\\build\\xgboost\\xgboost-0.81.git\\src\\tree\\updater_prune.cc:74: tree pruning end, 1 roots, 30 extra nodes, 0 pruned nodes, max_depth=4\n",
      "[16:55:58] d:\\build\\xgboost\\xgboost-0.81.git\\src\\tree\\updater_prune.cc:74: tree pruning end, 1 roots, 28 extra nodes, 0 pruned nodes, max_depth=4\n",
      "[16:56:06] d:\\build\\xgboost\\xgboost-0.81.git\\src\\tree\\updater_prune.cc:74: tree pruning end, 1 roots, 30 extra nodes, 0 pruned nodes, max_depth=4\n",
      "[340]\ttrain-logloss:0.384435\tvalid-logloss:0.386209\ttest-logloss:0.384579\n",
      "[16:56:13] d:\\build\\xgboost\\xgboost-0.81.git\\src\\tree\\updater_prune.cc:74: tree pruning end, 1 roots, 30 extra nodes, 0 pruned nodes, max_depth=4\n",
      "[16:56:21] d:\\build\\xgboost\\xgboost-0.81.git\\src\\tree\\updater_prune.cc:74: tree pruning end, 1 roots, 30 extra nodes, 0 pruned nodes, max_depth=4\n",
      "[16:56:28] d:\\build\\xgboost\\xgboost-0.81.git\\src\\tree\\updater_prune.cc:74: tree pruning end, 1 roots, 26 extra nodes, 0 pruned nodes, max_depth=4\n",
      "[16:56:36] d:\\build\\xgboost\\xgboost-0.81.git\\src\\tree\\updater_prune.cc:74: tree pruning end, 1 roots, 30 extra nodes, 0 pruned nodes, max_depth=4\n",
      "[16:56:44] d:\\build\\xgboost\\xgboost-0.81.git\\src\\tree\\updater_prune.cc:74: tree pruning end, 1 roots, 28 extra nodes, 0 pruned nodes, max_depth=4\n",
      "[16:56:52] d:\\build\\xgboost\\xgboost-0.81.git\\src\\tree\\updater_prune.cc:74: tree pruning end, 1 roots, 30 extra nodes, 0 pruned nodes, max_depth=4\n",
      "[16:56:59] d:\\build\\xgboost\\xgboost-0.81.git\\src\\tree\\updater_prune.cc:74: tree pruning end, 1 roots, 30 extra nodes, 0 pruned nodes, max_depth=4\n",
      "[16:57:07] d:\\build\\xgboost\\xgboost-0.81.git\\src\\tree\\updater_prune.cc:74: tree pruning end, 1 roots, 30 extra nodes, 0 pruned nodes, max_depth=4\n",
      "[16:57:15] d:\\build\\xgboost\\xgboost-0.81.git\\src\\tree\\updater_prune.cc:74: tree pruning end, 1 roots, 30 extra nodes, 0 pruned nodes, max_depth=4\n",
      "[16:57:23] d:\\build\\xgboost\\xgboost-0.81.git\\src\\tree\\updater_prune.cc:74: tree pruning end, 1 roots, 30 extra nodes, 0 pruned nodes, max_depth=4\n",
      "[350]\ttrain-logloss:0.38375\tvalid-logloss:0.385642\ttest-logloss:0.383965\n",
      "[16:57:30] d:\\build\\xgboost\\xgboost-0.81.git\\src\\tree\\updater_prune.cc:74: tree pruning end, 1 roots, 30 extra nodes, 0 pruned nodes, max_depth=4\n",
      "[16:57:38] d:\\build\\xgboost\\xgboost-0.81.git\\src\\tree\\updater_prune.cc:74: tree pruning end, 1 roots, 30 extra nodes, 0 pruned nodes, max_depth=4\n",
      "[16:57:45] d:\\build\\xgboost\\xgboost-0.81.git\\src\\tree\\updater_prune.cc:74: tree pruning end, 1 roots, 30 extra nodes, 0 pruned nodes, max_depth=4\n",
      "[16:57:53] d:\\build\\xgboost\\xgboost-0.81.git\\src\\tree\\updater_prune.cc:74: tree pruning end, 1 roots, 28 extra nodes, 0 pruned nodes, max_depth=4\n",
      "[16:58:00] d:\\build\\xgboost\\xgboost-0.81.git\\src\\tree\\updater_prune.cc:74: tree pruning end, 1 roots, 30 extra nodes, 0 pruned nodes, max_depth=4\n",
      "[16:58:07] d:\\build\\xgboost\\xgboost-0.81.git\\src\\tree\\updater_prune.cc:74: tree pruning end, 1 roots, 30 extra nodes, 0 pruned nodes, max_depth=4\n",
      "[16:58:15] d:\\build\\xgboost\\xgboost-0.81.git\\src\\tree\\updater_prune.cc:74: tree pruning end, 1 roots, 30 extra nodes, 0 pruned nodes, max_depth=4\n",
      "[16:58:22] d:\\build\\xgboost\\xgboost-0.81.git\\src\\tree\\updater_prune.cc:74: tree pruning end, 1 roots, 30 extra nodes, 0 pruned nodes, max_depth=4\n",
      "[16:58:30] d:\\build\\xgboost\\xgboost-0.81.git\\src\\tree\\updater_prune.cc:74: tree pruning end, 1 roots, 30 extra nodes, 0 pruned nodes, max_depth=4\n",
      "[16:58:37] d:\\build\\xgboost\\xgboost-0.81.git\\src\\tree\\updater_prune.cc:74: tree pruning end, 1 roots, 30 extra nodes, 0 pruned nodes, max_depth=4\n",
      "[360]\ttrain-logloss:0.383112\tvalid-logloss:0.385098\ttest-logloss:0.383422\n",
      "[16:58:45] d:\\build\\xgboost\\xgboost-0.81.git\\src\\tree\\updater_prune.cc:74: tree pruning end, 1 roots, 30 extra nodes, 0 pruned nodes, max_depth=4\n",
      "[16:58:52] d:\\build\\xgboost\\xgboost-0.81.git\\src\\tree\\updater_prune.cc:74: tree pruning end, 1 roots, 28 extra nodes, 0 pruned nodes, max_depth=4\n",
      "[16:59:00] d:\\build\\xgboost\\xgboost-0.81.git\\src\\tree\\updater_prune.cc:74: tree pruning end, 1 roots, 30 extra nodes, 0 pruned nodes, max_depth=4\n",
      "[16:59:11] d:\\build\\xgboost\\xgboost-0.81.git\\src\\tree\\updater_prune.cc:74: tree pruning end, 1 roots, 26 extra nodes, 0 pruned nodes, max_depth=4\n",
      "[16:59:19] d:\\build\\xgboost\\xgboost-0.81.git\\src\\tree\\updater_prune.cc:74: tree pruning end, 1 roots, 28 extra nodes, 0 pruned nodes, max_depth=4\n",
      "[16:59:28] d:\\build\\xgboost\\xgboost-0.81.git\\src\\tree\\updater_prune.cc:74: tree pruning end, 1 roots, 30 extra nodes, 0 pruned nodes, max_depth=4\n",
      "[16:59:36] d:\\build\\xgboost\\xgboost-0.81.git\\src\\tree\\updater_prune.cc:74: tree pruning end, 1 roots, 30 extra nodes, 0 pruned nodes, max_depth=4\n",
      "[16:59:44] d:\\build\\xgboost\\xgboost-0.81.git\\src\\tree\\updater_prune.cc:74: tree pruning end, 1 roots, 30 extra nodes, 0 pruned nodes, max_depth=4\n",
      "[16:59:54] d:\\build\\xgboost\\xgboost-0.81.git\\src\\tree\\updater_prune.cc:74: tree pruning end, 1 roots, 30 extra nodes, 0 pruned nodes, max_depth=4\n",
      "[17:00:04] d:\\build\\xgboost\\xgboost-0.81.git\\src\\tree\\updater_prune.cc:74: tree pruning end, 1 roots, 30 extra nodes, 0 pruned nodes, max_depth=4\n",
      "[370]\ttrain-logloss:0.382458\tvalid-logloss:0.384556\ttest-logloss:0.382859\n",
      "[17:00:13] d:\\build\\xgboost\\xgboost-0.81.git\\src\\tree\\updater_prune.cc:74: tree pruning end, 1 roots, 26 extra nodes, 0 pruned nodes, max_depth=4\n",
      "[17:00:23] d:\\build\\xgboost\\xgboost-0.81.git\\src\\tree\\updater_prune.cc:74: tree pruning end, 1 roots, 30 extra nodes, 0 pruned nodes, max_depth=4\n",
      "[17:00:30] d:\\build\\xgboost\\xgboost-0.81.git\\src\\tree\\updater_prune.cc:74: tree pruning end, 1 roots, 28 extra nodes, 0 pruned nodes, max_depth=4\n",
      "[17:00:38] d:\\build\\xgboost\\xgboost-0.81.git\\src\\tree\\updater_prune.cc:74: tree pruning end, 1 roots, 30 extra nodes, 0 pruned nodes, max_depth=4\n",
      "[17:00:45] d:\\build\\xgboost\\xgboost-0.81.git\\src\\tree\\updater_prune.cc:74: tree pruning end, 1 roots, 30 extra nodes, 0 pruned nodes, max_depth=4\n",
      "[17:00:52] d:\\build\\xgboost\\xgboost-0.81.git\\src\\tree\\updater_prune.cc:74: tree pruning end, 1 roots, 26 extra nodes, 0 pruned nodes, max_depth=4\n"
     ]
    },
    {
     "name": "stdout",
     "output_type": "stream",
     "text": [
      "[17:01:00] d:\\build\\xgboost\\xgboost-0.81.git\\src\\tree\\updater_prune.cc:74: tree pruning end, 1 roots, 30 extra nodes, 0 pruned nodes, max_depth=4\n",
      "[17:01:07] d:\\build\\xgboost\\xgboost-0.81.git\\src\\tree\\updater_prune.cc:74: tree pruning end, 1 roots, 30 extra nodes, 0 pruned nodes, max_depth=4\n",
      "[17:01:15] d:\\build\\xgboost\\xgboost-0.81.git\\src\\tree\\updater_prune.cc:74: tree pruning end, 1 roots, 30 extra nodes, 0 pruned nodes, max_depth=4\n",
      "[17:01:23] d:\\build\\xgboost\\xgboost-0.81.git\\src\\tree\\updater_prune.cc:74: tree pruning end, 1 roots, 30 extra nodes, 0 pruned nodes, max_depth=4\n",
      "[380]\ttrain-logloss:0.381876\tvalid-logloss:0.384075\ttest-logloss:0.382391\n",
      "[17:01:30] d:\\build\\xgboost\\xgboost-0.81.git\\src\\tree\\updater_prune.cc:74: tree pruning end, 1 roots, 30 extra nodes, 0 pruned nodes, max_depth=4\n",
      "[17:01:37] d:\\build\\xgboost\\xgboost-0.81.git\\src\\tree\\updater_prune.cc:74: tree pruning end, 1 roots, 30 extra nodes, 0 pruned nodes, max_depth=4\n",
      "[17:01:45] d:\\build\\xgboost\\xgboost-0.81.git\\src\\tree\\updater_prune.cc:74: tree pruning end, 1 roots, 30 extra nodes, 0 pruned nodes, max_depth=4\n",
      "[17:01:52] d:\\build\\xgboost\\xgboost-0.81.git\\src\\tree\\updater_prune.cc:74: tree pruning end, 1 roots, 30 extra nodes, 0 pruned nodes, max_depth=4\n",
      "[17:01:59] d:\\build\\xgboost\\xgboost-0.81.git\\src\\tree\\updater_prune.cc:74: tree pruning end, 1 roots, 30 extra nodes, 0 pruned nodes, max_depth=4\n",
      "[17:02:07] d:\\build\\xgboost\\xgboost-0.81.git\\src\\tree\\updater_prune.cc:74: tree pruning end, 1 roots, 28 extra nodes, 0 pruned nodes, max_depth=4\n",
      "[17:02:19] d:\\build\\xgboost\\xgboost-0.81.git\\src\\tree\\updater_prune.cc:74: tree pruning end, 1 roots, 30 extra nodes, 0 pruned nodes, max_depth=4\n",
      "[17:02:31] d:\\build\\xgboost\\xgboost-0.81.git\\src\\tree\\updater_prune.cc:74: tree pruning end, 1 roots, 30 extra nodes, 0 pruned nodes, max_depth=4\n",
      "[17:02:40] d:\\build\\xgboost\\xgboost-0.81.git\\src\\tree\\updater_prune.cc:74: tree pruning end, 1 roots, 30 extra nodes, 0 pruned nodes, max_depth=4\n",
      "[17:02:48] d:\\build\\xgboost\\xgboost-0.81.git\\src\\tree\\updater_prune.cc:74: tree pruning end, 1 roots, 30 extra nodes, 0 pruned nodes, max_depth=4\n",
      "[390]\ttrain-logloss:0.381287\tvalid-logloss:0.38358\ttest-logloss:0.381904\n",
      "[17:02:56] d:\\build\\xgboost\\xgboost-0.81.git\\src\\tree\\updater_prune.cc:74: tree pruning end, 1 roots, 30 extra nodes, 0 pruned nodes, max_depth=4\n",
      "[17:03:07] d:\\build\\xgboost\\xgboost-0.81.git\\src\\tree\\updater_prune.cc:74: tree pruning end, 1 roots, 30 extra nodes, 0 pruned nodes, max_depth=4\n",
      "[17:03:15] d:\\build\\xgboost\\xgboost-0.81.git\\src\\tree\\updater_prune.cc:74: tree pruning end, 1 roots, 30 extra nodes, 0 pruned nodes, max_depth=4\n",
      "[17:03:24] d:\\build\\xgboost\\xgboost-0.81.git\\src\\tree\\updater_prune.cc:74: tree pruning end, 1 roots, 30 extra nodes, 0 pruned nodes, max_depth=4\n",
      "[17:03:35] d:\\build\\xgboost\\xgboost-0.81.git\\src\\tree\\updater_prune.cc:74: tree pruning end, 1 roots, 24 extra nodes, 0 pruned nodes, max_depth=4\n",
      "[17:03:43] d:\\build\\xgboost\\xgboost-0.81.git\\src\\tree\\updater_prune.cc:74: tree pruning end, 1 roots, 28 extra nodes, 0 pruned nodes, max_depth=4\n",
      "[17:03:50] d:\\build\\xgboost\\xgboost-0.81.git\\src\\tree\\updater_prune.cc:74: tree pruning end, 1 roots, 30 extra nodes, 0 pruned nodes, max_depth=4\n",
      "[17:03:59] d:\\build\\xgboost\\xgboost-0.81.git\\src\\tree\\updater_prune.cc:74: tree pruning end, 1 roots, 30 extra nodes, 0 pruned nodes, max_depth=4\n",
      "[17:04:06] d:\\build\\xgboost\\xgboost-0.81.git\\src\\tree\\updater_prune.cc:74: tree pruning end, 1 roots, 30 extra nodes, 0 pruned nodes, max_depth=4\n",
      "[399]\ttrain-logloss:0.38078\tvalid-logloss:0.383175\ttest-logloss:0.381498\n",
      "The cross validation log loss is: 0.3831751410908833\n",
      "The test log loss is: 0.38149777715081606\n"
     ]
    }
   ],
   "source": [
    "params = {}\n",
    "params['objective'] = 'binary:logistic'\n",
    "params['eval_metric'] = 'logloss'\n",
    "params['eta'] = 0.02\n",
    "params['max_depth'] = 4\n",
    "\n",
    "d_train = xgb.DMatrix(xtrain, label = ytrain)\n",
    "d_cv = xgb.DMatrix(xcv, label = ycv)\n",
    "d_test = xgb.DMatrix(xtest, label = ytest)\n",
    "\n",
    "watchlist = [(d_train, 'train'), (d_cv, 'valid'), (d_test, 'test')]\n",
    "\n",
    "bst = xgb.train(params, d_train, 400, watchlist, early_stopping_rounds=20, verbose_eval=10)\n",
    "\n",
    "xgdmat = xgb.DMatrix(xtrain, ytrain)\n",
    "\n",
    "y_pred_cv = bst.predict(d_cv)\n",
    "\n",
    "y_pred = bst.predict(d_test)\n",
    "\n",
    "print(\"The cross validation log loss is:\",log_loss(ycv, y_pred_cv, labels=lr.classes_, eps=1e-15))\n",
    "print(\"The test log loss is:\",log_loss(ytest, y_pred, labels=lr.classes_, eps=1e-15))"
   ]
  },
  {
   "cell_type": "code",
   "execution_count": null,
   "metadata": {},
   "outputs": [],
   "source": []
  },
  {
   "cell_type": "code",
   "execution_count": null,
   "metadata": {},
   "outputs": [],
   "source": []
  }
 ],
 "metadata": {
  "kernelspec": {
   "display_name": "Python 3",
   "language": "python",
   "name": "python3"
  },
  "language_info": {
   "codemirror_mode": {
    "name": "ipython",
    "version": 3
   },
   "file_extension": ".py",
   "mimetype": "text/x-python",
   "name": "python",
   "nbconvert_exporter": "python",
   "pygments_lexer": "ipython3",
   "version": "3.6.5"
  }
 },
 "nbformat": 4,
 "nbformat_minor": 2
}
